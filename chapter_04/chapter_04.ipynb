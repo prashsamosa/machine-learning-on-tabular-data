{
  "cells": [
    {
      "cell_type": "code",
      "execution_count": 1,
      "metadata": {
        "colab": {
          "base_uri": "https://localhost:8080/",
          "height": 92
        },
        "id": "kZ5db0AsGDJR",
        "outputId": "2e042c5c-64ac-4842-a6bc-733c011bd6f3"
      },
      "outputs": [
        {
          "output_type": "stream",
          "name": "stdout",
          "text": [
            "accuracy: 0.900 (0.032)\n"
          ]
        },
        {
          "output_type": "execute_result",
          "data": {
            "text/plain": [
              "LogisticRegression()"
            ],
            "text/html": [
              "<style>#sk-container-id-1 {color: black;background-color: white;}#sk-container-id-1 pre{padding: 0;}#sk-container-id-1 div.sk-toggleable {background-color: white;}#sk-container-id-1 label.sk-toggleable__label {cursor: pointer;display: block;width: 100%;margin-bottom: 0;padding: 0.3em;box-sizing: border-box;text-align: center;}#sk-container-id-1 label.sk-toggleable__label-arrow:before {content: \"▸\";float: left;margin-right: 0.25em;color: #696969;}#sk-container-id-1 label.sk-toggleable__label-arrow:hover:before {color: black;}#sk-container-id-1 div.sk-estimator:hover label.sk-toggleable__label-arrow:before {color: black;}#sk-container-id-1 div.sk-toggleable__content {max-height: 0;max-width: 0;overflow: hidden;text-align: left;background-color: #f0f8ff;}#sk-container-id-1 div.sk-toggleable__content pre {margin: 0.2em;color: black;border-radius: 0.25em;background-color: #f0f8ff;}#sk-container-id-1 input.sk-toggleable__control:checked~div.sk-toggleable__content {max-height: 200px;max-width: 100%;overflow: auto;}#sk-container-id-1 input.sk-toggleable__control:checked~label.sk-toggleable__label-arrow:before {content: \"▾\";}#sk-container-id-1 div.sk-estimator input.sk-toggleable__control:checked~label.sk-toggleable__label {background-color: #d4ebff;}#sk-container-id-1 div.sk-label input.sk-toggleable__control:checked~label.sk-toggleable__label {background-color: #d4ebff;}#sk-container-id-1 input.sk-hidden--visually {border: 0;clip: rect(1px 1px 1px 1px);clip: rect(1px, 1px, 1px, 1px);height: 1px;margin: -1px;overflow: hidden;padding: 0;position: absolute;width: 1px;}#sk-container-id-1 div.sk-estimator {font-family: monospace;background-color: #f0f8ff;border: 1px dotted black;border-radius: 0.25em;box-sizing: border-box;margin-bottom: 0.5em;}#sk-container-id-1 div.sk-estimator:hover {background-color: #d4ebff;}#sk-container-id-1 div.sk-parallel-item::after {content: \"\";width: 100%;border-bottom: 1px solid gray;flex-grow: 1;}#sk-container-id-1 div.sk-label:hover label.sk-toggleable__label {background-color: #d4ebff;}#sk-container-id-1 div.sk-serial::before {content: \"\";position: absolute;border-left: 1px solid gray;box-sizing: border-box;top: 0;bottom: 0;left: 50%;z-index: 0;}#sk-container-id-1 div.sk-serial {display: flex;flex-direction: column;align-items: center;background-color: white;padding-right: 0.2em;padding-left: 0.2em;position: relative;}#sk-container-id-1 div.sk-item {position: relative;z-index: 1;}#sk-container-id-1 div.sk-parallel {display: flex;align-items: stretch;justify-content: center;background-color: white;position: relative;}#sk-container-id-1 div.sk-item::before, #sk-container-id-1 div.sk-parallel-item::before {content: \"\";position: absolute;border-left: 1px solid gray;box-sizing: border-box;top: 0;bottom: 0;left: 50%;z-index: -1;}#sk-container-id-1 div.sk-parallel-item {display: flex;flex-direction: column;z-index: 1;position: relative;background-color: white;}#sk-container-id-1 div.sk-parallel-item:first-child::after {align-self: flex-end;width: 50%;}#sk-container-id-1 div.sk-parallel-item:last-child::after {align-self: flex-start;width: 50%;}#sk-container-id-1 div.sk-parallel-item:only-child::after {width: 0;}#sk-container-id-1 div.sk-dashed-wrapped {border: 1px dashed gray;margin: 0 0.4em 0.5em 0.4em;box-sizing: border-box;padding-bottom: 0.4em;background-color: white;}#sk-container-id-1 div.sk-label label {font-family: monospace;font-weight: bold;display: inline-block;line-height: 1.2em;}#sk-container-id-1 div.sk-label-container {text-align: center;}#sk-container-id-1 div.sk-container {/* jupyter's `normalize.less` sets `[hidden] { display: none; }` but bootstrap.min.css set `[hidden] { display: none !important; }` so we also need the `!important` here to be able to override the default hidden behavior on the sphinx rendered scikit-learn.org. See: https://github.com/scikit-learn/scikit-learn/issues/21755 */display: inline-block !important;position: relative;}#sk-container-id-1 div.sk-text-repr-fallback {display: none;}</style><div id=\"sk-container-id-1\" class=\"sk-top-container\"><div class=\"sk-text-repr-fallback\"><pre>LogisticRegression()</pre><b>In a Jupyter environment, please rerun this cell to show the HTML representation or trust the notebook. <br />On GitHub, the HTML representation is unable to render, please try loading this page with nbviewer.org.</b></div><div class=\"sk-container\" hidden><div class=\"sk-item\"><div class=\"sk-estimator sk-toggleable\"><input class=\"sk-toggleable__control sk-hidden--visually\" id=\"sk-estimator-id-1\" type=\"checkbox\" checked><label for=\"sk-estimator-id-1\" class=\"sk-toggleable__label sk-toggleable__label-arrow\">LogisticRegression</label><div class=\"sk-toggleable__content\"><pre>LogisticRegression()</pre></div></div></div></div></div>"
            ]
          },
          "metadata": {},
          "execution_count": 1
        }
      ],
      "source": [
        "# Listing 4.1 Example using Scikit-learn for a classification problem\n",
        "\n",
        "import numpy as np\n",
        "from sklearn.datasets import make_classification\n",
        "from sklearn.preprocessing import StandardScaler\n",
        "from sklearn.linear_model import LogisticRegression\n",
        "from sklearn.model_selection import cross_validate\n",
        "from sklearn.pipeline import Pipeline\n",
        "\n",
        "X, y = make_classification(\n",
        "    n_features=32, n_redundant=0, n_informative=24, random_state=1, n_clusters_per_class=1\n",
        ") #A\n",
        "\n",
        "model = LogisticRegression() #B\n",
        "\n",
        "pipeline = Pipeline(\n",
        "    [('processing', StandardScaler()),\n",
        "     ('modeling', model)]) #C\n",
        "\n",
        "cv_scores = cross_validate(estimator=pipeline,\n",
        "                           X=X,\n",
        "                           y=y,\n",
        "                           scoring=\"accuracy\",\n",
        "                           cv=5) #D\n",
        "\n",
        "mean_cv = np.mean(cv_scores['test_score'])\n",
        "std_cv = np.std(cv_scores['test_score'])\n",
        "print(f\"accuracy: {mean_cv:0.3f} ({std_cv:0.3f})\") #E\n",
        "\n",
        "model.fit(X, y) #F\n",
        "\n",
        "#A generating a synthetic dataset with specified characteristics\n",
        "#B creating an instance of the LogisticRegression model\n",
        "#C creating a pipeline that sequentially applies standard scaling and the logistic regression model\n",
        "#D performing a five-fold cross-validation using the defined pipeline, calculating accuracy scores\n",
        "#E printing the mean and standard deviation of the test accuracy scores from cross-validation\n",
        "#F fitting the logistic regression model to the entire dataset X with corresponding labels y"
      ]
    },
    {
      "cell_type": "code",
      "execution_count": 2,
      "metadata": {
        "colab": {
          "base_uri": "https://localhost:8080/",
          "height": 75
        },
        "id": "vSrQzZAFQ4nx",
        "outputId": "2a6459e5-ccf1-4ec1-90e5-293821f681da"
      },
      "outputs": [
        {
          "output_type": "execute_result",
          "data": {
            "text/plain": [
              "LogisticRegression()"
            ],
            "text/html": [
              "<style>#sk-container-id-2 {color: black;background-color: white;}#sk-container-id-2 pre{padding: 0;}#sk-container-id-2 div.sk-toggleable {background-color: white;}#sk-container-id-2 label.sk-toggleable__label {cursor: pointer;display: block;width: 100%;margin-bottom: 0;padding: 0.3em;box-sizing: border-box;text-align: center;}#sk-container-id-2 label.sk-toggleable__label-arrow:before {content: \"▸\";float: left;margin-right: 0.25em;color: #696969;}#sk-container-id-2 label.sk-toggleable__label-arrow:hover:before {color: black;}#sk-container-id-2 div.sk-estimator:hover label.sk-toggleable__label-arrow:before {color: black;}#sk-container-id-2 div.sk-toggleable__content {max-height: 0;max-width: 0;overflow: hidden;text-align: left;background-color: #f0f8ff;}#sk-container-id-2 div.sk-toggleable__content pre {margin: 0.2em;color: black;border-radius: 0.25em;background-color: #f0f8ff;}#sk-container-id-2 input.sk-toggleable__control:checked~div.sk-toggleable__content {max-height: 200px;max-width: 100%;overflow: auto;}#sk-container-id-2 input.sk-toggleable__control:checked~label.sk-toggleable__label-arrow:before {content: \"▾\";}#sk-container-id-2 div.sk-estimator input.sk-toggleable__control:checked~label.sk-toggleable__label {background-color: #d4ebff;}#sk-container-id-2 div.sk-label input.sk-toggleable__control:checked~label.sk-toggleable__label {background-color: #d4ebff;}#sk-container-id-2 input.sk-hidden--visually {border: 0;clip: rect(1px 1px 1px 1px);clip: rect(1px, 1px, 1px, 1px);height: 1px;margin: -1px;overflow: hidden;padding: 0;position: absolute;width: 1px;}#sk-container-id-2 div.sk-estimator {font-family: monospace;background-color: #f0f8ff;border: 1px dotted black;border-radius: 0.25em;box-sizing: border-box;margin-bottom: 0.5em;}#sk-container-id-2 div.sk-estimator:hover {background-color: #d4ebff;}#sk-container-id-2 div.sk-parallel-item::after {content: \"\";width: 100%;border-bottom: 1px solid gray;flex-grow: 1;}#sk-container-id-2 div.sk-label:hover label.sk-toggleable__label {background-color: #d4ebff;}#sk-container-id-2 div.sk-serial::before {content: \"\";position: absolute;border-left: 1px solid gray;box-sizing: border-box;top: 0;bottom: 0;left: 50%;z-index: 0;}#sk-container-id-2 div.sk-serial {display: flex;flex-direction: column;align-items: center;background-color: white;padding-right: 0.2em;padding-left: 0.2em;position: relative;}#sk-container-id-2 div.sk-item {position: relative;z-index: 1;}#sk-container-id-2 div.sk-parallel {display: flex;align-items: stretch;justify-content: center;background-color: white;position: relative;}#sk-container-id-2 div.sk-item::before, #sk-container-id-2 div.sk-parallel-item::before {content: \"\";position: absolute;border-left: 1px solid gray;box-sizing: border-box;top: 0;bottom: 0;left: 50%;z-index: -1;}#sk-container-id-2 div.sk-parallel-item {display: flex;flex-direction: column;z-index: 1;position: relative;background-color: white;}#sk-container-id-2 div.sk-parallel-item:first-child::after {align-self: flex-end;width: 50%;}#sk-container-id-2 div.sk-parallel-item:last-child::after {align-self: flex-start;width: 50%;}#sk-container-id-2 div.sk-parallel-item:only-child::after {width: 0;}#sk-container-id-2 div.sk-dashed-wrapped {border: 1px dashed gray;margin: 0 0.4em 0.5em 0.4em;box-sizing: border-box;padding-bottom: 0.4em;background-color: white;}#sk-container-id-2 div.sk-label label {font-family: monospace;font-weight: bold;display: inline-block;line-height: 1.2em;}#sk-container-id-2 div.sk-label-container {text-align: center;}#sk-container-id-2 div.sk-container {/* jupyter's `normalize.less` sets `[hidden] { display: none; }` but bootstrap.min.css set `[hidden] { display: none !important; }` so we also need the `!important` here to be able to override the default hidden behavior on the sphinx rendered scikit-learn.org. See: https://github.com/scikit-learn/scikit-learn/issues/21755 */display: inline-block !important;position: relative;}#sk-container-id-2 div.sk-text-repr-fallback {display: none;}</style><div id=\"sk-container-id-2\" class=\"sk-top-container\"><div class=\"sk-text-repr-fallback\"><pre>LogisticRegression()</pre><b>In a Jupyter environment, please rerun this cell to show the HTML representation or trust the notebook. <br />On GitHub, the HTML representation is unable to render, please try loading this page with nbviewer.org.</b></div><div class=\"sk-container\" hidden><div class=\"sk-item\"><div class=\"sk-estimator sk-toggleable\"><input class=\"sk-toggleable__control sk-hidden--visually\" id=\"sk-estimator-id-2\" type=\"checkbox\" checked><label for=\"sk-estimator-id-2\" class=\"sk-toggleable__label sk-toggleable__label-arrow\">LogisticRegression</label><div class=\"sk-toggleable__content\"><pre>LogisticRegression()</pre></div></div></div></div></div>"
            ]
          },
          "metadata": {},
          "execution_count": 2
        }
      ],
      "source": [
        "# 4.1.2 Common Scikit-learn interface\n",
        "\n",
        "from sklearn.linear_model import LogisticRegression\n",
        "model = LogisticRegression(C=1.0)\n",
        "\n",
        "X = [[-1, -1], [-2, -1], [1, 1], [2, 1]]\n",
        "y = [1, 1, 0, 0]\n",
        "model.fit(X, y)"
      ]
    },
    {
      "cell_type": "code",
      "execution_count": 3,
      "metadata": {
        "id": "v7A9ATiNRH4L"
      },
      "outputs": [],
      "source": [
        "from sklearn.preprocessing import StandardScaler\n",
        "processing = StandardScaler().fit(X)"
      ]
    },
    {
      "cell_type": "code",
      "execution_count": 4,
      "metadata": {
        "colab": {
          "base_uri": "https://localhost:8080/"
        },
        "id": "7JWQqvNtRIwF",
        "outputId": "5eb4a6ee-8f5e-43bb-eb41-198b077f9c35"
      },
      "outputs": [
        {
          "output_type": "execute_result",
          "data": {
            "text/plain": [
              "array([1, 0])"
            ]
          },
          "metadata": {},
          "execution_count": 4
        }
      ],
      "source": [
        "X_test = [[-1, 1], [2, -1]]\n",
        "model.predict(X_test)"
      ]
    },
    {
      "cell_type": "code",
      "execution_count": 5,
      "metadata": {
        "colab": {
          "base_uri": "https://localhost:8080/"
        },
        "id": "-GRWYq_rRLaG",
        "outputId": "12dfb123-efda-46fa-e6a1-b471e3cc7925"
      },
      "outputs": [
        {
          "output_type": "execute_result",
          "data": {
            "text/plain": [
              "array([[0.45001898, 0.54998102],\n",
              "       [0.73081591, 0.26918409]])"
            ]
          },
          "metadata": {},
          "execution_count": 5
        }
      ],
      "source": [
        "model.predict_proba(X_test)"
      ]
    },
    {
      "cell_type": "code",
      "execution_count": 6,
      "metadata": {
        "colab": {
          "base_uri": "https://localhost:8080/"
        },
        "id": "Ivi-rEqtRN5q",
        "outputId": "490f76ea-a166-4784-fd9a-d129336df0c1"
      },
      "outputs": [
        {
          "output_type": "execute_result",
          "data": {
            "text/plain": [
              "array([[-0.63245553, -1.        ],\n",
              "       [-1.26491106, -1.        ],\n",
              "       [ 0.63245553,  1.        ],\n",
              "       [ 1.26491106,  1.        ]])"
            ]
          },
          "metadata": {},
          "execution_count": 6
        }
      ],
      "source": [
        "processing.transform(X)"
      ]
    },
    {
      "cell_type": "code",
      "execution_count": 7,
      "metadata": {
        "colab": {
          "base_uri": "https://localhost:8080/"
        },
        "id": "nLfs-vyIRS0k",
        "outputId": "9fadcd62-5ed8-4cba-c73b-b3afc8830d5f"
      },
      "outputs": [
        {
          "output_type": "execute_result",
          "data": {
            "text/plain": [
              "array([[-0.63245553, -1.        ],\n",
              "       [-1.26491106, -1.        ],\n",
              "       [ 0.63245553,  1.        ],\n",
              "       [ 1.26491106,  1.        ]])"
            ]
          },
          "metadata": {},
          "execution_count": 7
        }
      ],
      "source": [
        "processing.fit_transform(X)"
      ]
    },
    {
      "cell_type": "code",
      "execution_count": 8,
      "metadata": {
        "id": "WxlJOZkGuNZD"
      },
      "outputs": [],
      "source": [
        "# Loading Airbnb NY Dataset\n",
        "\n",
        "import pandas as pd\n",
        "\n",
        "url = \"https://raw.githubusercontent.com/lmassaron/tabular_datasets/master/AB_NYC_2019.csv\"\n",
        "data = pd.read_csv(url)"
      ]
    },
    {
      "cell_type": "code",
      "execution_count": 9,
      "metadata": {
        "id": "Xffc-yrXRU-4"
      },
      "outputs": [],
      "source": [
        "# 4.2.1 Dataset exploration\n",
        "\n",
        "import numpy as np\n",
        "import pandas as pd\n",
        "excluding_list = ['price', 'id', 'latitude', 'longitude', 'host_id', 'last_review',\n",
        "                  'name', 'host_name'] #A\n",
        "categorical = ['neighbourhood_group', 'neighbourhood', 'room_type'] #B\n",
        "continuous = ['minimum_nights', 'number_of_reviews', 'reviews_per_month',\n",
        "              'calculated_host_listings_count'] #C\n",
        "data = pd.read_csv(\"./AB_NYC_2019.csv\")\n",
        "\n",
        "#A list of column names to be excluded from the analysis\n",
        "#B list of names of columns that likely represent categorical variables in the dataset\n",
        "#C list of names of columns that represent continuous numerical variables in the dataset."
      ]
    },
    {
      "cell_type": "code",
      "execution_count": 10,
      "metadata": {
        "colab": {
          "base_uri": "https://localhost:8080/"
        },
        "id": "mSDOm9r-RcW8",
        "outputId": "a0ee57ef-a28f-4c33-c113-8e7c61667b3f"
      },
      "outputs": [
        {
          "output_type": "execute_result",
          "data": {
            "text/plain": [
              "(48895, 16)"
            ]
          },
          "metadata": {},
          "execution_count": 10
        }
      ],
      "source": [
        "data.shape"
      ]
    },
    {
      "cell_type": "code",
      "execution_count": 11,
      "metadata": {
        "colab": {
          "base_uri": "https://localhost:8080/"
        },
        "id": "qarqBH6wRfAN",
        "outputId": "ec1fef53-cf14-4951-bd34-31764822011f"
      },
      "outputs": [
        {
          "output_type": "execute_result",
          "data": {
            "text/plain": [
              "neighbourhood_group      5\n",
              "neighbourhood          221\n",
              "room_type                3\n",
              "dtype: int64"
            ]
          },
          "metadata": {},
          "execution_count": 11
        }
      ],
      "source": [
        "data[categorical].nunique()"
      ]
    },
    {
      "cell_type": "code",
      "execution_count": 12,
      "metadata": {
        "id": "91kC1OjNRe92"
      },
      "outputs": [],
      "source": [
        "low_card_categorical = ['neighbourhood_group', 'room_type']\n",
        "high_card_categorical = ['neighbourhood']"
      ]
    },
    {
      "cell_type": "code",
      "execution_count": 13,
      "metadata": {
        "colab": {
          "base_uri": "https://localhost:8080/"
        },
        "id": "QS_0WYRdRe7f",
        "outputId": "b61326d0-6b3d-4438-ce46-1e0e865dfb4b"
      },
      "outputs": [
        {
          "output_type": "execute_result",
          "data": {
            "text/plain": [
              "neighbourhood_group                   0\n",
              "room_type                             0\n",
              "minimum_nights                        0\n",
              "number_of_reviews                     0\n",
              "reviews_per_month                 10052\n",
              "calculated_host_listings_count        0\n",
              "dtype: int64"
            ]
          },
          "metadata": {},
          "execution_count": 13
        }
      ],
      "source": [
        "data[low_card_categorical + continuous].isna().sum()"
      ]
    },
    {
      "cell_type": "code",
      "execution_count": 14,
      "metadata": {
        "colab": {
          "base_uri": "https://localhost:8080/"
        },
        "id": "BXw7ZiQzRe4q",
        "outputId": "03c631fa-d1c1-4031-c43e-f810b7aa6331"
      },
      "outputs": [
        {
          "output_type": "execute_result",
          "data": {
            "text/plain": [
              "0.01"
            ]
          },
          "metadata": {},
          "execution_count": 14
        }
      ],
      "source": [
        "data.reviews_per_month.min()"
      ]
    },
    {
      "cell_type": "code",
      "execution_count": 15,
      "metadata": {
        "colab": {
          "base_uri": "https://localhost:8080/",
          "height": 469
        },
        "id": "b2PfXcl3Re17",
        "outputId": "2fc0a6af-99e4-4a1a-df64-8c787abd35ac"
      },
      "outputs": [
        {
          "output_type": "execute_result",
          "data": {
            "text/plain": [
              "array([[<Axes: title={'center': 'price'}>]], dtype=object)"
            ]
          },
          "metadata": {},
          "execution_count": 15
        },
        {
          "output_type": "display_data",
          "data": {
            "text/plain": [
              "<Figure size 640x480 with 1 Axes>"
            ],
            "image/png": "[encoded data removed]"
          },
          "metadata": {}
        }
      ],
      "source": [
        "data[[\"price\"]].hist(bins=10)"
      ]
    },
    {
      "cell_type": "code",
      "execution_count": 16,
      "metadata": {
        "colab": {
          "base_uri": "https://localhost:8080/",
          "height": 447
        },
        "id": "iAZXbEfiRezL",
        "outputId": "a7f3128d-686b-4492-92c6-67a978783a99"
      },
      "outputs": [
        {
          "output_type": "execute_result",
          "data": {
            "text/plain": [
              "<Axes: >"
            ]
          },
          "metadata": {},
          "execution_count": 16
        },
        {
          "output_type": "display_data",
          "data": {
            "text/plain": [
              "<Figure size 640x480 with 1 Axes>"
            ],
            "image/png": "[encoded data removed]"
          },
          "metadata": {}
        }
      ],
      "source": [
        "data[[\"price\"]].boxplot()"
      ]
    },
    {
      "cell_type": "code",
      "execution_count": 17,
      "metadata": {
        "colab": {
          "base_uri": "https://localhost:8080/",
          "height": 447
        },
        "id": "hAn9NeNRRewa",
        "outputId": "7542b05c-b9c7-4b46-8e1e-7953259d7044"
      },
      "outputs": [
        {
          "output_type": "execute_result",
          "data": {
            "text/plain": [
              "<Axes: >"
            ]
          },
          "metadata": {},
          "execution_count": 17
        },
        {
          "output_type": "display_data",
          "data": {
            "text/plain": [
              "<Figure size 640x480 with 1 Axes>"
            ],
            "image/png": "[encoded data removed]"
          },
          "metadata": {}
        }
      ],
      "source": [
        "np.log1p(data[\"price\"]).hist(bins=20)\n",
        "data[[\"price\"]].apply(lambda x: np.log1p(x)).boxplot()"
      ]
    },
    {
      "cell_type": "code",
      "execution_count": 18,
      "metadata": {
        "colab": {
          "base_uri": "https://localhost:8080/",
          "height": 469
        },
        "id": "utwiUctXRetr",
        "outputId": "c80d8efa-3275-4779-b3c6-be3c69295575"
      },
      "outputs": [
        {
          "output_type": "execute_result",
          "data": {
            "text/plain": [
              "array([[<Axes: title={'center': 'price'}>]], dtype=object)"
            ]
          },
          "metadata": {},
          "execution_count": 18
        },
        {
          "output_type": "display_data",
          "data": {
            "text/plain": [
              "<Figure size 640x480 with 1 Axes>"
            ],
            "image/png": "[encoded data removed]"
          },
          "metadata": {}
        }
      ],
      "source": [
        "data[[\"price\"]][data.price <= 1000].hist(bins=20)"
      ]
    },
    {
      "cell_type": "code",
      "execution_count": 19,
      "metadata": {
        "colab": {
          "base_uri": "https://localhost:8080/",
          "height": 469
        },
        "id": "HJ0frFQ3Reqj",
        "outputId": "82805cb2-0de3-4b23-e2f8-3436a8072203"
      },
      "outputs": [
        {
          "output_type": "execute_result",
          "data": {
            "text/plain": [
              "array([[<Axes: title={'center': 'price'}>]], dtype=object)"
            ]
          },
          "metadata": {},
          "execution_count": 19
        },
        {
          "output_type": "display_data",
          "data": {
            "text/plain": [
              "<Figure size 640x480 with 1 Axes>"
            ],
            "image/png": "[encoded data removed]"
          },
          "metadata": {}
        }
      ],
      "source": [
        "data[[\"price\"]][(data.price >= 50) & (data.price <= 200)].hist(bins=20)"
      ]
    },
    {
      "cell_type": "code",
      "execution_count": 20,
      "metadata": {
        "id": "pJuqJWW_RxQk"
      },
      "outputs": [],
      "source": [
        "price_capped = data.price <= 1000\n",
        "price_window = (data.price >= 50) & (data.price <= 200)"
      ]
    },
    {
      "cell_type": "code",
      "execution_count": 21,
      "metadata": {
        "colab": {
          "base_uri": "https://localhost:8080/",
          "height": 447
        },
        "id": "o0we9sZRRxNo",
        "outputId": "7b25c3c6-651c-4ade-9244-010ac54fc455"
      },
      "outputs": [
        {
          "output_type": "execute_result",
          "data": {
            "text/plain": [
              "<Axes: >"
            ]
          },
          "metadata": {},
          "execution_count": 21
        },
        {
          "output_type": "display_data",
          "data": {
            "text/plain": [
              "<Figure size 640x480 with 1 Axes>"
            ],
            "image/png": "[encoded data removed]"
          },
          "metadata": {}
        }
      ],
      "source": [
        "data[[\"price\"]][price_window].boxplot()"
      ]
    },
    {
      "cell_type": "code",
      "execution_count": 22,
      "metadata": {
        "id": "DCO1F3ZvRxKt"
      },
      "outputs": [],
      "source": [
        "target_mean = (data[\"price\"] > data[\"price\"].mean()).astype(int)\n",
        "target_median = (data[\"price\"] > data[\"price\"].median()).astype(int)\n",
        "target_multiclass = pd.qcut(data[\"price\"], q=5, labels=False)\n",
        "target_regression = data[\"price\"]"
      ]
    },
    {
      "cell_type": "code",
      "execution_count": 23,
      "metadata": {
        "colab": {
          "base_uri": "https://localhost:8080/"
        },
        "id": "m94qQMoiRxHt",
        "outputId": "06543f1b-119d-4a2e-cc5b-e0230c20b078"
      },
      "outputs": [
        {
          "output_type": "execute_result",
          "data": {
            "text/plain": [
              "0    24472\n",
              "1    24423\n",
              "Name: price, dtype: int64"
            ]
          },
          "metadata": {},
          "execution_count": 23
        }
      ],
      "source": [
        "target_median.value_counts()"
      ]
    },
    {
      "cell_type": "code",
      "execution_count": 24,
      "metadata": {
        "colab": {
          "base_uri": "https://localhost:8080/"
        },
        "id": "Ve9bBBI1RxEl",
        "outputId": "0226f72a-9644-42bc-f202-c53bf8de744f"
      },
      "outputs": [
        {
          "output_type": "execute_result",
          "data": {
            "text/plain": [
              "0    34016\n",
              "1    14879\n",
              "Name: price, dtype: int64"
            ]
          },
          "metadata": {},
          "execution_count": 24
        }
      ],
      "source": [
        "target_mean.value_counts()"
      ]
    },
    {
      "cell_type": "code",
      "execution_count": 25,
      "metadata": {
        "colab": {
          "base_uri": "https://localhost:8080/"
        },
        "id": "A14O6wFHRxBm",
        "outputId": "7ad6e42c-3f93-4da8-b4e5-b52c5028fee4"
      },
      "outputs": [
        {
          "output_type": "execute_result",
          "data": {
            "text/plain": [
              "3    10809\n",
              "0    10063\n",
              "1     9835\n",
              "2     9804\n",
              "4     8384\n",
              "Name: price, dtype: int64"
            ]
          },
          "metadata": {},
          "execution_count": 25
        }
      ],
      "source": [
        "target_multiclass.value_counts()"
      ]
    },
    {
      "cell_type": "code",
      "execution_count": 26,
      "metadata": {
        "id": "1wyb1-8ARw-d"
      },
      "outputs": [],
      "source": [
        "# Listing 4.2 setting up building blocks for tabular learning pipelines\n",
        "\n",
        "from sklearn.pipeline import Pipeline\n",
        "from sklearn.compose import ColumnTransformer\n",
        "from sklearn.preprocessing import OneHotEncoder\n",
        "from sklearn.preprocessing import OrdinalEncoder\n",
        "from sklearn.impute import SimpleImputer\n",
        "from sklearn.preprocessing import StandardScaler\n",
        "\n",
        "categorical_onehot_encoding = OneHotEncoder(handle_unknown='ignore') #A\n",
        "numeric_passthrough = SimpleImputer(strategy=\"constant\", fill_value=0) #B\n",
        "numeric_standardization = Pipeline([\n",
        "       (\"imputation\", SimpleImputer(strategy=\"constant\", fill_value=0)),\n",
        "       (\"standardizing\", StandardScaler())\n",
        "       ]) #C\n",
        "\n",
        "#A converting categorical features into one-hot encoded format\n",
        "#B replacing missing numeric values with zero\n",
        "#C pipeline replacing missing numeric values with zero and standardizing the features"
      ]
    },
    {
      "cell_type": "code",
      "execution_count": 27,
      "metadata": {
        "id": "QGbCDEP2Rw7V"
      },
      "outputs": [],
      "source": [
        "column_transform = ColumnTransformer(\n",
        "    [('categories', categorical_onehot_encoding, low_card_categorical), #A\n",
        "     ('numeric', numeric_passthrough, continuous), #B\n",
        "    ],\n",
        "    remainder='drop', #C\n",
        "    verbose_feature_names_out=False, #D\n",
        "    sparse_threshold=0.0 #E\n",
        ")\n",
        "\n",
        "#A first step of the pipeline, one-hot encoding categorical features\n",
        "#B second step of the pipeline, handling numeric features\n",
        "#C the features not processed by the pipeline are dropped from the result\n",
        "#D names of the features are kept as they originally are\n",
        "#E the result is always a dense matrix, i.e., a NumPy array"
      ]
    },
    {
      "cell_type": "code",
      "execution_count": 28,
      "metadata": {
        "colab": {
          "base_uri": "https://localhost:8080/"
        },
        "id": "6EyUGsjkRw4F",
        "outputId": "8ed643bb-34b8-4960-8559-0eaf45d6308c"
      },
      "outputs": [
        {
          "output_type": "stream",
          "name": "stdout",
          "text": [
            "<class 'numpy.ndarray'> float64 (48895, 12)\n"
          ]
        }
      ],
      "source": [
        "X = column_transform.fit_transform(data)\n",
        "print(type(X), X.dtype, X.shape)"
      ]
    },
    {
      "cell_type": "code",
      "execution_count": 29,
      "metadata": {
        "colab": {
          "base_uri": "https://localhost:8080/"
        },
        "id": "RrUwUGMZRw0s",
        "outputId": "355598eb-3142-45fa-d967-9195a4237df7"
      },
      "outputs": [
        {
          "output_type": "stream",
          "name": "stdout",
          "text": [
            "34.120 (0.300) fit: 0.07 secs pred: 0.02 secs\n"
          ]
        }
      ],
      "source": [
        "# Listing 4.3 Linear regression\n",
        "\n",
        "from sklearn.linear_model import LinearRegression\n",
        "from sklearn.metrics import make_scorer, mean_squared_error\n",
        "from sklearn.model_selection import KFold\n",
        "from sklearn.model_selection import cross_validate\n",
        "\n",
        "column_transform = ColumnTransformer(\n",
        "    [('categories', categorical_onehot_encoding, low_card_categorical),\n",
        "     ('numeric', numeric_passthrough, continuous)],\n",
        "    remainder='drop',\n",
        "    verbose_feature_names_out=False,\n",
        "    sparse_threshold=0.0) #A\n",
        "\n",
        "model = LinearRegression() #B\n",
        "\n",
        "model_pipeline = Pipeline(\n",
        "    [('processing', column_transform),\n",
        "     ('modeling', model)] #C\n",
        ")\n",
        "\n",
        "cv = KFold(5, shuffle=True, random_state=0) #D\n",
        "rmse =  make_scorer(mean_squared_error, squared=False) #E\n",
        "\n",
        "cv_scores = cross_validate(estimator=model_pipeline,\n",
        "                           X=data[price_window],\n",
        "                           y=target_regression[price_window],\n",
        "                           scoring=rmse,\n",
        "                           cv=cv,\n",
        "                           return_train_score=True,\n",
        "                           return_estimator=True) #F\n",
        "\n",
        "mean_cv = np.mean(cv_scores['test_score'])\n",
        "std_cv = np.std(cv_scores['test_score'])\n",
        "fit_time = np.mean(cv_scores['fit_time'])\n",
        "score_time = np.mean(cv_scores['score_time'])\n",
        "print(f\"{mean_cv:0.3f} ({std_cv:0.3f})\",\n",
        "      f\"fit: {fit_time:0.2f} secs pred: {score_time:0.2f} secs\")#G\n",
        "\n",
        "\n",
        "#A ColumnTransformer, transforming data into numeric features and imputing missing data\n",
        "#B vanilla  linear regression model\n",
        "#C pipeline assembling ColumnTransformer and model\n",
        "#D cross-validation strategy based on five folds and random sampling\n",
        "#E function for evaluation metric derived from mean squared error\n",
        "#F automated cross-validate procedure\n",
        "#G reporting the results in terms of evaluation metric, standard deviation, fitting, and prediction time"
      ]
    },
    {
      "cell_type": "code",
      "execution_count": 30,
      "metadata": {
        "colab": {
          "base_uri": "https://localhost:8080/"
        },
        "id": "eTpPpJi_RwxW",
        "outputId": "65cef45e-79cd-42b8-9026-f109d87a399f"
      },
      "outputs": [
        {
          "output_type": "stream",
          "name": "stdout",
          "text": [
            "33.93737, 0.23999\n"
          ]
        }
      ],
      "source": [
        "# Listing 4.4 Customized data preparation for linear regression\n",
        "\n",
        "data_2 = data[[]].copy() #A\n",
        "data_2['neighbourhood_group_Manhattan'] = (\n",
        "   (data['neighbourhood_group']=='Manhattan').astype(int)) #B\n",
        "data_2['neighbourhood_group_Queens'] = (\n",
        "                           (data['neighbourhood_group']=='Queens').astype(int)) #C\n",
        "data_2['room_type_Entire home/apt'] = (\n",
        "                           (data['room_type']=='Entire home/apt').astype(int)) #D\n",
        "data_2['minimum_nights_log'] = np.log1p(data[\"minimum_nights\"]) #E\n",
        "data_2['number_of_reviews_log'] = np.log1p(data[\"number_of_reviews\"]) #F\n",
        "data_2['neighbourhood_group_Manhattan*room_type_Entire home/apt'] = (\n",
        "   data_2['neighbourhood_group_Manhattan'] * data_2['room_type_Entire home/apt']) #G\n",
        "data_2['availability_365*neighbourhood_group_Manhattan'] = (data['availability_365'] *\n",
        "   data_2['neighbourhood_group_Manhattan']) #H\n",
        "data_2['availability_365*room_type_Entire home/apt'] = (data['availability_365'] *\n",
        "   data_2['room_type_Entire home/apt']) #I\n",
        "\n",
        "rmse = make_scorer(mean_squared_error, squared=False)\n",
        "cv = KFold(5, shuffle=True, random_state=0)\n",
        "\n",
        "cv_scores = cross_validate(estimator=LinearRegression(),\n",
        "                           X=data_2[price_window],\n",
        "                           y=target_regression[price_window],\n",
        "                           scoring=rmse,\n",
        "                           cv=cv,\n",
        "                           return_train_score=True,\n",
        "                           return_estimator=True)\n",
        "\n",
        "mean_cv = np.mean(cv_scores['test_score'])\n",
        "std_cv = np.std(cv_scores['test_score'])\n",
        "print(f\"{mean_cv:0.5f}, {std_cv:0.5f}\")\n",
        "\n",
        "\n",
        "#A creating  an empty DataFrame\n",
        "#B a binary column indicating whether the 'neighbourhood_group' is 'Manhattan'.\n",
        "#C binary column indicating whether the 'neighbourhood_group' is 'Queens'\n",
        "#D binary column to indicating whether the 'room_type' is 'Entire home/apt'\n",
        "#E a column containing the natural logarithm of the values in the 'minimum_nights' column plus 1\n",
        "#F a column containing the natural logarithm of the values in the 'number_of_reviews' column plus 1\n",
        "#G a product of the binary 'neighbourhood_group_Manhattan' and 'room_type_Entire home/apt' columns\n",
        "#H a product of 'availability_365' and the binary 'neighbourhood_group_Manhattan' column\n",
        "#I a product of 'availability_365' and the binary 'room_type_Entire home/apt' column"
      ]
    },
    {
      "cell_type": "code",
      "execution_count": 31,
      "metadata": {
        "colab": {
          "base_uri": "https://localhost:8080/"
        },
        "id": "NpFhNsaCSY9n",
        "outputId": "c4df42aa-37a6-4339-b8b5-1085153ad492"
      },
      "outputs": [
        {
          "output_type": "stream",
          "name": "stdout",
          "text": [
            "33.936 (0.288) fit: 0.37 secs pred: 0.09 secs\n"
          ]
        }
      ],
      "source": [
        "# Listing 4.5 L2 regularized linear regression\n",
        "\n",
        "from sklearn.preprocessing import PolynomialFeatures\n",
        "from sklearn.linear_model import Ridge, Lasso\n",
        "\n",
        "column_transform = ColumnTransformer(\n",
        "    [('categories', categorical_onehot_encoding, low_card_categorical),\n",
        "     ('numeric', numeric_passthrough, continuous)],\n",
        "    remainder='drop',\n",
        "    verbose_feature_names_out=False,\n",
        "    sparse_threshold=0.0)\n",
        "\n",
        "polynomial_expansion = PolynomialFeatures(degree=2) #A\n",
        "\n",
        "model = Ridge(alpha=2500.0) #B\n",
        "\n",
        "model_pipeline = Pipeline(\n",
        "    [('processing', column_transform),\n",
        "     ('polynomial_expansion', polynomial_expansion),\n",
        "     ('standardizing', numeric_standardization),\n",
        "     ('modeling', model)]\n",
        ") #C\n",
        "\n",
        "cv = KFold(5, shuffle=True, random_state=0)\n",
        "rmse =  make_scorer(mean_squared_error, squared=False)\n",
        "\n",
        "cv_scores = cross_validate(estimator=model_pipeline,\n",
        "                           X=data[price_window],\n",
        "                           y=target_regression[price_window],\n",
        "                           scoring=rmse,\n",
        "                           cv=cv,\n",
        "                           return_train_score=True,\n",
        "                           return_estimator=True) #D\n",
        "\n",
        "mean_cv = np.mean(cv_scores['test_score'])\n",
        "std_cv = np.std(cv_scores['test_score'])\n",
        "fit_time = np.mean(cv_scores['fit_time'])\n",
        "score_time = np.mean(cv_scores['score_time'])\n",
        "print(f\"{mean_cv:0.3f} ({std_cv:0.3f})\",\n",
        "      f\"fit: {fit_time:0.2f} secs pred: {score_time:0.2f} secs\") #E\n",
        "\n",
        "#A PolynomialFeatures instance performing second-degree polynomial expansion on the features\n",
        "#B a Ridge regression model instance with a regularization strength (alpha) of 2500\n",
        "#C pipeline for column transformation, polynomial expansion, standardization, and Ridge regression modeling\n",
        "#D five-fold cross-validation using the defined pipeline and calculating RMSE scores\n",
        "#E printing the mean and standard deviation of the test RMSE scores from cross-validation"
      ]
    },
    {
      "cell_type": "code",
      "execution_count": 32,
      "metadata": {
        "colab": {
          "base_uri": "https://localhost:8080/"
        },
        "id": "tXsRztroSY6r",
        "outputId": "7ed8b615-7766-442f-a0fd-aa5c54afb6e1"
      },
      "outputs": [
        {
          "output_type": "stream",
          "name": "stdout",
          "text": [
            "33.913 (0.283) fit: 3.28 secs pred: 0.11 secs\n"
          ]
        }
      ],
      "source": [
        "# Listing 4.6 L1 regularized linear regression\n",
        "\n",
        "model = Lasso(alpha=0.1) #A\n",
        "\n",
        "model_pipeline = Pipeline(\n",
        "    [('processing', column_transform),\n",
        "     ('polynomial_expansion', polynomial_expansion),\n",
        "     ('standardizing', numeric_standardization),\n",
        "     ('modeling', model)]\n",
        ") #B\n",
        "\n",
        "cv = KFold(5, shuffle=True, random_state=0)\n",
        "rmse =  make_scorer(mean_squared_error, squared=False)\n",
        "\n",
        "cv_scores = cross_validate(estimator=model_pipeline,\n",
        "                           X=data[price_window],\n",
        "                           y=target_regression[price_window],\n",
        "                           scoring=rmse,\n",
        "                           cv=cv,\n",
        "                           return_train_score=True,\n",
        "                           return_estimator=True) #C\n",
        "\n",
        "mean_cv = np.mean(cv_scores['test_score'])\n",
        "std_cv = np.std(cv_scores['test_score'])\n",
        "fit_time = np.mean(cv_scores['fit_time'])\n",
        "score_time = np.mean(cv_scores['score_time'])\n",
        "print(f\"{mean_cv:0.3f} ({std_cv:0.3f})\",\n",
        "      f\"fit: {fit_time:0.2f} secs pred: {score_time:0.2f} secs\") #D\n",
        "\n",
        "#A a Lasso regression model instance with a regularization strength (alpha) of 0.1\n",
        "#B pipeline applying column transformation, polynomial expansion, standardization, and Lasso regression modeling\n",
        "#C five-fold cross-validation using the defined pipeline and calculating RMSE scores\n",
        "#D printing the mean and standard deviation of the test RMSE scores from cross-validation"
      ]
    },
    {
      "cell_type": "code",
      "execution_count": 33,
      "metadata": {
        "colab": {
          "base_uri": "https://localhost:8080/"
        },
        "id": "sqBYw_R_SY3m",
        "outputId": "2b43b3eb-70c7-4e62-f384-50f00d73869c"
      },
      "outputs": [
        {
          "output_type": "stream",
          "name": "stdout",
          "text": [
            "0.820 (0.005) fit: 3.39 secs pred: 0.02 secs\n"
          ]
        }
      ],
      "source": [
        "# Listing 4.7 Logistic regression\n",
        "\n",
        "from sklearn.linear_model import LogisticRegression\n",
        "from sklearn.metrics import make_scorer, accuracy_score\n",
        "\n",
        "accuracy = make_scorer(accuracy_score)\n",
        "cv = KFold(5, shuffle=True, random_state=0)\n",
        "model = LogisticRegression(solver=\"saga\", penalty=None, max_iter=1_000) #A\n",
        "\n",
        "column_transform = ColumnTransformer(\n",
        "    [('categories', categorical_onehot_encoding, low_card_categorical),\n",
        "     ('numeric', numeric_standardization, continuous)],\n",
        "    remainder='drop',\n",
        "    verbose_feature_names_out=False,\n",
        "    sparse_threshold=0.0) #B\n",
        "\n",
        "model_pipeline = Pipeline(\n",
        "    [('processing', column_transform),\n",
        "     ('modeling', model)]) #C\n",
        "\n",
        "cv_scores = cross_validate(estimator=model_pipeline,\n",
        "                           X=data,\n",
        "                           y=target_median,\n",
        "                           scoring=accuracy,\n",
        "                           cv=cv,\n",
        "                           return_train_score=True,\n",
        "                           return_estimator=True) #D\n",
        "\n",
        "mean_cv = np.mean(cv_scores['test_score'])\n",
        "std_cv = np.std(cv_scores['test_score'])\n",
        "fit_time = np.mean(cv_scores['fit_time'])\n",
        "score_time = np.mean(cv_scores['score_time'])\n",
        "print(f\"{mean_cv:0.3f} ({std_cv:0.3f})\",\n",
        "      f\"fit: {fit_time:0.2f} secs pred: {score_time:0.2f} secs\") #E\n",
        "\n",
        "#A a logistic regression model instance with the \"saga\" solver, no penalty, and a maximum of 1,000 iterations\n",
        "#B a column transformer applying one-hot encoding to categorical features and standardization to numeric features\n",
        "#C a pipeline that sequentially applies column transformation and logistic regression modeling\n",
        "#D five-fold cross-validation using the defined pipeline and calculating accuracy scores\n",
        "#E printing the mean and standard deviation of the test accuracy scores from cross-validation"
      ]
    },
    {
      "cell_type": "code",
      "execution_count": 34,
      "metadata": {
        "colab": {
          "base_uri": "https://localhost:8080/"
        },
        "id": "R0wIf3ghSY0_",
        "outputId": "54f07601-ad14-43ae-cd25-d5553c1083b8"
      },
      "outputs": [
        {
          "output_type": "stream",
          "name": "stdout",
          "text": [
            "0.425 (0.002) fit: 27.78 secs pred: 0.01 secs\n"
          ]
        }
      ],
      "source": [
        "# Listing 4.8 L2 regularized multiclass linear regression\n",
        "\n",
        "from sklearn.linear_model import LogisticRegression\n",
        "from sklearn.metrics import make_scorer, accuracy_score\n",
        "\n",
        "accuracy = make_scorer(accuracy_score)\n",
        "cv = KFold(5, shuffle=True, random_state=0)\n",
        "model = LogisticRegression(penalty=\"l2\", C=0.1, solver=\"sag\", multi_class=\"ovr\", max_iter=1_000) #A\n",
        "\n",
        "column_transform = ColumnTransformer(\n",
        "    [('categories', categorical_onehot_encoding, low_card_categorical),\n",
        "     ('numeric', numeric_standardization, continuous)],\n",
        "    remainder='drop',\n",
        "    verbose_feature_names_out=False,\n",
        "    sparse_threshold=0.0) #B\n",
        "\n",
        "model_pipeline = Pipeline(\n",
        "    [('processing', column_transform),\n",
        "     ('modeling', model)]) #C\n",
        "\n",
        "cv_scores = cross_validate(estimator=model_pipeline,\n",
        "                           X=data,\n",
        "                           y=target_multiclass,\n",
        "                           scoring=accuracy,\n",
        "                           cv=cv,\n",
        "                           return_train_score=True,\n",
        "                           return_estimator=True) #D\n",
        "\n",
        "mean_cv = np.mean(cv_scores['test_score'])\n",
        "std_cv = np.std(cv_scores['test_score'])\n",
        "fit_time = np.mean(cv_scores['fit_time'])\n",
        "score_time = np.mean(cv_scores['score_time'])\n",
        "print(f\"{mean_cv:0.3f} ({std_cv:0.3f})\",\n",
        "      f\"fit: {fit_time:0.2f} secs pred: {score_time:0.2f} secs\") #E\n",
        "\n",
        "#A logistic regression model instance with L2 penalty, regularization C=0.1, \"sag\" solver, \"ovr\" multi-class strategy\n",
        "#B column transformer that applies one-hot encoding to categorical features and standardization to numeric features\n",
        "#C pipeline that sequentially applies column transformation and logistic regression modeling\n",
        "#D cross-validation using the defined pipeline and calculating accuracy scores\n",
        "#E printing the mean and standard deviation of the test accuracy scores from cross-validation"
      ]
    },
    {
      "cell_type": "code",
      "execution_count": 35,
      "metadata": {
        "colab": {
          "base_uri": "https://localhost:8080/"
        },
        "id": "Qzcu0nmxSYyR",
        "outputId": "939eb173-d559-47e7-bd8e-6e4246643b3b"
      },
      "outputs": [
        {
          "output_type": "stream",
          "name": "stdout",
          "text": [
            "normal            : 233.858 (15.826) fit: 0.32 secs pred: 0.04 secs\n",
            "poisson           : 229.189 (16.075) fit: 0.55 secs pred: 0.02 secs\n",
            "tweedie           : 229.607 (16.047) fit: 0.28 secs pred: 0.02 secs\n",
            "gamma             : 233.991 (15.828) fit: 0.24 secs pred: 0.02 secs\n",
            "inverse gaussian  : 239.577 (15.453) fit: 0.13 secs pred: 0.02 secs\n"
          ]
        }
      ],
      "source": [
        "# Listing 4.9 Tweedie regression\n",
        "\n",
        "from sklearn.linear_model import TweedieRegressor\n",
        "from sklearn.metrics import make_scorer, mean_squared_error\n",
        "from sklearn.model_selection import KFold\n",
        "from sklearn.model_selection import cross_validate\n",
        "\n",
        "experiments = [\n",
        "    ['normal', 0, float('-inf')],\n",
        "    ['poisson', 1, 0.0],\n",
        "    ['tweedie', 1.5, 0.1],\n",
        "    ['gamma', 2, 0.1],\n",
        "    ['inverse gaussian', 3, 0.1]] #A\n",
        "\n",
        "for experiment, power, min_val in experiments: #B\n",
        "\n",
        "    column_transform = ColumnTransformer(\n",
        "        [('categories', categorical_onehot_encoding, low_card_categorical),\n",
        "         ('numeric', numeric_standardization, continuous)],\n",
        "        remainder='drop',\n",
        "        verbose_feature_names_out=False,\n",
        "        sparse_threshold=0.0)\n",
        "\n",
        "    model = TweedieRegressor(power=power, max_iter=1_000) #C\n",
        "\n",
        "    model_pipeline = Pipeline(\n",
        "        [('processing', column_transform),\n",
        "         ('modeling', model)])\n",
        "\n",
        "    cv = KFold(5, shuffle=True, random_state=0)\n",
        "    rmse =  make_scorer(mean_squared_error, squared=False)\n",
        "\n",
        "    cv_scores = cross_validate(estimator=model_pipeline,\n",
        "                               X=data,\n",
        "                               y=target_regression.clip(lower=min_val), #D\n",
        "                               scoring=rmse,\n",
        "                               cv=cv,\n",
        "                               return_train_score=True,\n",
        "                               return_estimator=True)\n",
        "\n",
        "    mean_cv = np.mean(cv_scores['test_score'])\n",
        "    std_cv = np.std(cv_scores['test_score'])\n",
        "    fit_time = np.mean(cv_scores['fit_time'])\n",
        "    score_time = np.mean(cv_scores['score_time'])\n",
        "    print(f\"{experiment:18}: {mean_cv:0.3f} ({std_cv:0.3f})\",\n",
        "          f\"fit: {fit_time:0.2f} secs pred: {score_time:0.2f} secs\") #E\n",
        "\n",
        "\n",
        "#A a list of experiments, made of a distribution name, power parameter and minimum target value\n",
        "#B looping through the experiments list with distribution names and power parameters\n",
        "#C instance of the TweedieRegressor model with the specified power parameter for the current experiment\n",
        "#D clipping the target regression data to a minimum value, accordingly to the used distribution\n",
        "#E printing the experiment name along with the results from cross-validation"
      ]
    },
    {
      "cell_type": "code",
      "execution_count": 36,
      "metadata": {
        "colab": {
          "base_uri": "https://localhost:8080/"
        },
        "id": "uAYxHm_CSYvv",
        "outputId": "11ed0112-c409-4455-993e-7f583438336c"
      },
      "outputs": [
        {
          "output_type": "stream",
          "name": "stdout",
          "text": [
            "Accuracy on test set: 0.818\n"
          ]
        }
      ],
      "source": [
        "# Listing 4.10 Out-of-core Logistic regression with L2 regularization\n",
        "\n",
        "from sklearn.linear_model import SGDClassifier\n",
        "from sklearn.model_selection import train_test_split\n",
        "from sklearn.utils import gen_batches\n",
        "from sklearn.metrics import accuracy_score\n",
        "\n",
        "def generate_batches(X, y, batch_size, random_state): #A\n",
        "    \"\"\"split dataset into batches \"\"\"\n",
        "    examples = len(X)\n",
        "    batches = gen_batches(n=examples, batch_size=batch_size) #B\n",
        "    sequence = np.arange(examples)\n",
        "    if random_state:\n",
        "      np.random.seed(random_state) #C\n",
        "      np.random.shuffle(sequence)\n",
        "\n",
        "    for batch in batches:\n",
        "        items = sequence[batch]\n",
        "        yield(X.iloc[items], y.iloc[items]) #D\n",
        "\n",
        "model = SGDClassifier(loss=\"log_loss\",\n",
        "                      average=True,\n",
        "                      penalty='l2',\n",
        "                      alpha=0.001) #E\n",
        "\n",
        "column_transform = ColumnTransformer(\n",
        "    [('categories', categorical_onehot_encoding, low_card_categorical),\n",
        "     ('numeric', numeric_standardization, continuous)],\n",
        "    remainder='drop',\n",
        "    verbose_feature_names_out=False,\n",
        "    sparse_threshold=0.0)\n",
        "\n",
        "X_train, X_test, y_train, y_test = train_test_split(data, target_median,\n",
        "                                                    test_size=0.20, random_state=0) #F\n",
        "iterations = 10\n",
        "for j in range(iterations): #G\n",
        "    generator = generate_batches(X_train, y_train, batch_size=256, random_state=j)\n",
        "    for k, (Xt, yt) in enumerate(generator):\n",
        "        if k == 0:\n",
        "            column_transform.fit(Xt)\n",
        "\n",
        "        Xt = column_transform.transform(Xt)\n",
        "\n",
        "        if k == 0:\n",
        "            model.partial_fit(Xt, yt, classes=(0, 1)) #H\n",
        "        else:\n",
        "            model.partial_fit(Xt, yt) #I\n",
        "\n",
        "predictions = model.predict(column_transform.transform(X_test))\n",
        "score = accuracy_score(y_true=y_test, y_pred=predictions)\n",
        "print(f\"Accuracy on test set: {score:0.3f}\") #J\n",
        "\n",
        "#A defining a function to generate batches of data for training\n",
        "#B generating batches of data indices for processing\n",
        "#C shuffling the sequence of examples if a random state is provided\n",
        "#D yielding batches of input features and corresponding labels\n",
        "#E creating an instance of the SGDClassifier model with logistic loss, averaging, L2 penalty, and alpha regularization\n",
        "#F splitting the data and target into training and testing sets using a 80-20 ratio\n",
        "#G iterating through training data batches, fitting the column transformer on the first batch.\n",
        "#H using partial fitting to train the model on the first batch, specifying the classes\n",
        "#I using partial fitting to further train the model on subsequent batches\n",
        "#J printing accuracy score of test data predictions"
      ]
    }
  ],
  "metadata": {
    "colab": {
      "provenance": []
    },
    "kernelspec": {
      "display_name": "Python 3 (ipykernel)",
      "language": "python",
      "name": "python3"
    },
    "language_info": {
      "codemirror_mode": {
        "name": "ipython",
        "version": 3
      },
      "file_extension": ".py",
      "mimetype": "text/x-python",
      "name": "python",
      "nbconvert_exporter": "python",
      "pygments_lexer": "ipython3",
      "version": "3.8.9"
    }
  },
  "nbformat": 4,
  "nbformat_minor": 0
}