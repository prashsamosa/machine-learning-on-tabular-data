{
 "cells": [
  {
   "cell_type": "code",
   "execution_count": null,
   "metadata": {
    "colab": {
     "base_uri": "https://localhost:8080/"
    },
    "id": "EV2phFH1-c3n",
    "outputId": "cfd41ea5-e93a-40da-a7c1-472e39716c1b"
   },
   "outputs": [
    {
     "name": "stdout",
     "output_type": "stream",
     "text": [
      "         gender  age education_level  income\n",
      "Bob        male   25        Bachelor   50000\n",
      "Alice    female   30          Master   60000\n",
      "Charlie    male   27        Bachelor   55000\n",
      "Emily    female   29             PhD   70000\n",
      "gender             female\n",
      "age                    30\n",
      "education_level    Master\n",
      "income              60000\n",
      "Name: Alice, dtype: object\n",
      "gender             female\n",
      "age                    30\n",
      "education_level    Master\n",
      "income              60000\n",
      "Name: Alice, dtype: object\n"
     ]
    }
   ],
   "source": [
    "#Listing 2.1 Creating a simple tabular dataset\n",
    "\n",
    "import pandas as pd\n",
    "data = {'gender': ['male', 'female', 'male', 'female'],\n",
    "        'age': [25, 30, 27, 29],\n",
    "        'education_level': ['Bachelor', 'Master', 'Bachelor', 'PhD'],\n",
    "        'income': [50000, 60000, 55000, 70000]} #A\n",
    "index = [ 'Bob ', 'Alice', 'Charlie', 'Emily'] #B\n",
    "df = pd.DataFrame(data, index=index) #C\n",
    "print(df)\n",
    "print(df.iloc[1]) #D\n",
    "print(df.loc['Alice']) #E\n",
    "\n",
    "#A create a dictionary of data\n",
    "#B create a row index\n",
    "#C create a Pandas dataframe from the dictionary\n",
    "#D print the row 1\n",
    "#E print the row whose label is Alice"
   ]
  },
  {
   "cell_type": "code",
   "execution_count": null,
   "metadata": {
    "colab": {
     "base_uri": "https://localhost:8080/"
    },
    "id": "hdlllOCCBCbT",
    "outputId": "72af744d-353f-459c-e319-8603e6f6fdf0"
   },
   "outputs": [
    {
     "name": "stdout",
     "output_type": "stream",
     "text": [
      "[ 0.          0.24888889 14.        ]\n",
      "(15, 2)\n"
     ]
    }
   ],
   "source": [
    "# Listing 2.2 Dropping zero variance features\n",
    "\n",
    "import pandas as pd\n",
    "from sklearn.preprocessing import OrdinalEncoder\n",
    "from sklearn.feature_selection import VarianceThreshold\n",
    "\n",
    "data = pd.DataFrame({\"feature_1\":['A' for i in range(15)],\n",
    "                     \"feature_2\":['B' if i%2==0 else 'C' for i in range(15)],\n",
    "                     \"feature_3\":[i**2 for i in range(15)]})\n",
    "ord_enc = OrdinalEncoder() #A\n",
    "data[data.columns] = ord_enc.fit_transform(data)\n",
    "var_threshold = VarianceThreshold(threshold=0) #B\n",
    "clean_data = var_threshold.fit_transform(data)\n",
    "print(var_threshold.variances_) #C\n",
    "print(clean_data.shape)\n",
    "\n",
    "#A an ordinal encoder will transform your data from string labels to ordered numeric ones\n",
    "#B the VarianceThreshold class will filter all features whose variance is equal to or below the selected threshold\n",
    "#C you can have the variances of all features represented by the .variances_ attribute"
   ]
  },
  {
   "cell_type": "code",
   "execution_count": null,
   "metadata": {
    "colab": {
     "base_uri": "https://localhost:8080/"
    },
    "id": "9wOebQsQBYfr",
    "outputId": "d3cde8fd-2dfc-498e-d63d-c20d58e82c50"
   },
   "outputs": [
    {
     "name": "stdout",
     "output_type": "stream",
     "text": [
      "[14.98 13.64 11.85 13.12 15.75  1.2   1.41  1.19  1.46  1.31  1.38  1.3\n",
      "  1.19  1.24  1.63  1.28  1.45  1.23  1.15  1.16 18.86 16.79 15.39 16.45\n",
      " 17.82]\n",
      "feature 0 and 20 have r=0.966\n",
      "feature 1 and 21 have r=0.963\n",
      "feature 2 and 22 have r=0.947\n",
      "feature 3 and 23 have r=0.958\n",
      "feature 4 and 24 have r=0.964\n"
     ]
    }
   ],
   "source": [
    "# Listing 2.3 Finding multicollinear numeric features\n",
    "\n",
    "import numpy as np\n",
    "from sklearn.datasets import make_classification\n",
    "from statsmodels.stats.outliers_influence import variance_inflation_factor\n",
    "\n",
    "np.random.seed(0) #A\n",
    "X, _ = make_classification(n_redundant=0, n_repeated=0, random_state=0) #B\n",
    "X = np.hstack([X, X[:,:5] + np.random.random((X.shape[0],5))]) #C\n",
    "\n",
    "vif = [variance_inflation_factor(X, i) for i in range(X.shape[1])] #D\n",
    "print(np.round(vif,2))\n",
    "\n",
    "for a in range(X.shape[1]): #E\n",
    "    for b in range(X.shape[1]):\n",
    "        if a < b:\n",
    "            r = np.corrcoef(X[:, a], X[:, b])[0][1] #F\n",
    "            if np.abs(r) > 0.90: #G\n",
    "                print(f\"feature {a} and {b} have r={r:0.3f}\")\n",
    "                \n",
    "#A Setting the seed for reproducibility\n",
    "#B Creating a synthetic dataset: the make_classification command will create a sample dataset of twenty slightly correlated features (see: https://scikit-learn.org/stable/modules/generated/sklearn.datasets.make_classification.html)\n",
    "#C Adding more correlated features to the dataset: we pick the first five features, and we duplicate them at the end of the dataset after having added some noise (so they are not the same as the original ones)\n",
    "#D Computing the variance inflation factor (VIF) to spot the features that has the least unique contribution\n",
    "#E Checking for correlated features by iterating through a correlation matrix, we compute only the correlation coefficients of the lower triangle of the matrix\n",
    "#F The correlation coefficient is computed using the NumPy function np.corcoef (https://numpy.org/doc/stable/reference/generated/numpy.corrcoef.html)\n",
    "#G the threshold to report collinearity is evaluated in absolute value (correlation will be negative if a feature is reversed). In addition, depending on the stage of the analysis, you can set this to 0.90, 0.95, or even 0.99"
   ]
  },
  {
   "cell_type": "code",
   "execution_count": null,
   "metadata": {
    "id": "9OxYMul4BeRb"
   },
   "outputs": [],
   "source": [
    "# Listing 2.4 Merging datasets in pandas\n",
    "\n",
    "import pandas as pd\n",
    "\n",
    "df1 = pd.DataFrame({'product_id': [1, 2, 3, 4],\n",
    "                    'product_name': ['Product A', 'Product B', 'Product C', 'Product D'],\n",
    "                    'price': [10.99, 20.99, 15.99, 8.99]}) #A\n",
    "df2 = pd.DataFrame({'product_id': [1, 2, 3, 4],\n",
    "                 'product_description': ['A great product', 'A high-quality product', \n",
    "                                         'A reliable product', 'An affordable product'],\n",
    "                 'category': ['Category A', 'Category B', 'Category C', 'Category D']}) #B\n",
    "df3 = pd.DataFrame({'product_id': [1, 2, 3, 4],\n",
    "                    'manufacturer': ['Manufacturer A', 'Manufacturer B', \n",
    "                                     'Manufacturer C', 'Manufacturer D'],\n",
    "                    'weight': [1.5, 2.0, 1.8, 1.2]}) #C\n",
    "\n",
    "merged_df = pd.merge(df1, df2, on='product_id') #D\n",
    "merged_df = pd.merge(merged_df, df3, on='product_id') #E\n",
    "\n",
    "print(merged_df)\n",
    "\n",
    "#A the first table, containing prices\n",
    "#B the second table, containing descriptions\n",
    "#C the third table, containing makers and characteristics\n",
    "#D merging the first two tables\n",
    "#E merging the previous two joined tables with the third one"
   ]
  },
  {
   "cell_type": "code",
   "execution_count": null,
   "metadata": {
    "id": "4blhmfM2CH_K"
   },
   "outputs": [],
   "source": [
    "# Listing 2.5 Download of Auto MPG Data Set from UCI repository\n",
    "\n",
    "from io import StringIO #A                 \n",
    "import requests #B                           \n",
    "import pandas as pd\n",
    "\n",
    "url = \"https://archive.ics.uci.edu/ml/machine-learning-databases/auto-mpg/\"\n",
    "data = \"auto-mpg.data-original\"\n",
    "columns = [\"mpg\", \"cylinders\", \"displacement\", \"horsepower\", \"weight\", \n",
    "           \"acceleration\", \"model_year\", \"origin\", \"car_name\"] #C\n",
    "colspecs = [(0, 4), (6, 9), (12, 17), (23, 28), (34, 39), \n",
    "            (45, 49), (52, 55), (57, 59), (61, -2)] #D\n",
    "data_ingestion = StringIO(requests.get(url + data).text) #E\n",
    "data = pd.read_fwf(data_ingestion, colspecs=colspecs, names=columns)   #F\n",
    "\n",
    "#A StringIO reads and writes an in-memory string buffer\n",
    "#B requests is an HTTP library that can help you recover data from the Web\n",
    "#C derived from the documentation on the UCI machine learning repository\n",
    "#D fixed-width data requires providing each feature with its start and end position in the input \n",
    "#E the dataset is read from the Web by requests.get() and then turned into a string buffer \n",
    "#F pd.read_fwf reads a table of fixed-width formatted lines into a DataFrame"
   ]
  },
  {
   "cell_type": "code",
   "execution_count": null,
   "metadata": {
    "colab": {
     "base_uri": "https://localhost:8080/",
     "height": 206
    },
    "id": "ZTjC9nn1CH2s",
    "outputId": "e6f4399c-3b7b-40bd-a07b-94cd670078af"
   },
   "outputs": [
    {
     "data": {
      "text/html": [
       "\n",
       "  <div id=\"df-d2636dcc-76d7-415c-97dd-65e8ce487289\">\n",
       "    <div class=\"colab-df-container\">\n",
       "      <div>\n",
       "<style scoped>\n",
       "    .dataframe tbody tr th:only-of-type {\n",
       "        vertical-align: middle;\n",
       "    }\n",
       "\n",
       "    .dataframe tbody tr th {\n",
       "        vertical-align: top;\n",
       "    }\n",
       "\n",
       "    .dataframe thead th {\n",
       "        text-align: right;\n",
       "    }\n",
       "</style>\n",
       "<table border=\"1\" class=\"dataframe\">\n",
       "  <thead>\n",
       "    <tr style=\"text-align: right;\">\n",
       "      <th></th>\n",
       "      <th>mpg</th>\n",
       "      <th>cylinders</th>\n",
       "      <th>displacement</th>\n",
       "      <th>horsepower</th>\n",
       "      <th>weight</th>\n",
       "      <th>acceleration</th>\n",
       "      <th>model_year</th>\n",
       "      <th>origin</th>\n",
       "      <th>car_name</th>\n",
       "    </tr>\n",
       "  </thead>\n",
       "  <tbody>\n",
       "    <tr>\n",
       "      <th>0</th>\n",
       "      <td>18.0</td>\n",
       "      <td>8.0</td>\n",
       "      <td>307.0</td>\n",
       "      <td>130.0</td>\n",
       "      <td>3504.0</td>\n",
       "      <td>12.0</td>\n",
       "      <td>70.0</td>\n",
       "      <td>1.</td>\n",
       "      <td>chevrolet chevelle malibu</td>\n",
       "    </tr>\n",
       "    <tr>\n",
       "      <th>1</th>\n",
       "      <td>15.0</td>\n",
       "      <td>8.0</td>\n",
       "      <td>350.0</td>\n",
       "      <td>165.0</td>\n",
       "      <td>3693.0</td>\n",
       "      <td>11.5</td>\n",
       "      <td>70.0</td>\n",
       "      <td>1.</td>\n",
       "      <td>buick skylark 320</td>\n",
       "    </tr>\n",
       "    <tr>\n",
       "      <th>2</th>\n",
       "      <td>18.0</td>\n",
       "      <td>8.0</td>\n",
       "      <td>318.0</td>\n",
       "      <td>150.0</td>\n",
       "      <td>3436.0</td>\n",
       "      <td>11.0</td>\n",
       "      <td>70.0</td>\n",
       "      <td>1.</td>\n",
       "      <td>plymouth satellite</td>\n",
       "    </tr>\n",
       "    <tr>\n",
       "      <th>3</th>\n",
       "      <td>16.0</td>\n",
       "      <td>8.0</td>\n",
       "      <td>304.0</td>\n",
       "      <td>150.0</td>\n",
       "      <td>3433.0</td>\n",
       "      <td>12.0</td>\n",
       "      <td>70.0</td>\n",
       "      <td>1.</td>\n",
       "      <td>amc rebel sst</td>\n",
       "    </tr>\n",
       "    <tr>\n",
       "      <th>4</th>\n",
       "      <td>17.0</td>\n",
       "      <td>8.0</td>\n",
       "      <td>302.0</td>\n",
       "      <td>140.0</td>\n",
       "      <td>3449.0</td>\n",
       "      <td>10.5</td>\n",
       "      <td>70.0</td>\n",
       "      <td>1.</td>\n",
       "      <td>ford torino</td>\n",
       "    </tr>\n",
       "  </tbody>\n",
       "</table>\n",
       "</div>\n",
       "      <button class=\"colab-df-convert\" onclick=\"convertToInteractive('df-d2636dcc-76d7-415c-97dd-65e8ce487289')\"\n",
       "              title=\"Convert this dataframe to an interactive table.\"\n",
       "              style=\"display:none;\">\n",
       "        \n",
       "  <svg xmlns=\"http://www.w3.org/2000/svg\" height=\"24px\"viewBox=\"0 0 24 24\"\n",
       "       width=\"24px\">\n",
       "    <path d=\"M0 0h24v24H0V0z\" fill=\"none\"/>\n",
       "    <path d=\"M18.56 5.44l.94 2.06.94-2.06 2.06-.94-2.06-.94-.94-2.06-.94 2.06-2.06.94zm-11 1L8.5 8.5l.94-2.06 2.06-.94-2.06-.94L8.5 2.5l-.94 2.06-2.06.94zm10 10l.94 2.06.94-2.06 2.06-.94-2.06-.94-.94-2.06-.94 2.06-2.06.94z\"/><path d=\"M17.41 7.96l-1.37-1.37c-.4-.4-.92-.59-1.43-.59-.52 0-1.04.2-1.43.59L10.3 9.45l-7.72 7.72c-.78.78-.78 2.05 0 2.83L4 21.41c.39.39.9.59 1.41.59.51 0 1.02-.2 1.41-.59l7.78-7.78 2.81-2.81c.8-.78.8-2.07 0-2.86zM5.41 20L4 18.59l7.72-7.72 1.47 1.35L5.41 20z\"/>\n",
       "  </svg>\n",
       "      </button>\n",
       "      \n",
       "  <style>\n",
       "    .colab-df-container {\n",
       "      display:flex;\n",
       "      flex-wrap:wrap;\n",
       "      gap: 12px;\n",
       "    }\n",
       "\n",
       "    .colab-df-convert {\n",
       "      background-color: #E8F0FE;\n",
       "      border: none;\n",
       "      border-radius: 50%;\n",
       "      cursor: pointer;\n",
       "      display: none;\n",
       "      fill: #1967D2;\n",
       "      height: 32px;\n",
       "      padding: 0 0 0 0;\n",
       "      width: 32px;\n",
       "    }\n",
       "\n",
       "    .colab-df-convert:hover {\n",
       "      background-color: #E2EBFA;\n",
       "      box-shadow: 0px 1px 2px rgba(60, 64, 67, 0.3), 0px 1px 3px 1px rgba(60, 64, 67, 0.15);\n",
       "      fill: #174EA6;\n",
       "    }\n",
       "\n",
       "    [theme=dark] .colab-df-convert {\n",
       "      background-color: #3B4455;\n",
       "      fill: #D2E3FC;\n",
       "    }\n",
       "\n",
       "    [theme=dark] .colab-df-convert:hover {\n",
       "      background-color: #434B5C;\n",
       "      box-shadow: 0px 1px 3px 1px rgba(0, 0, 0, 0.15);\n",
       "      filter: drop-shadow(0px 1px 2px rgba(0, 0, 0, 0.3));\n",
       "      fill: #FFFFFF;\n",
       "    }\n",
       "  </style>\n",
       "\n",
       "      <script>\n",
       "        const buttonEl =\n",
       "          document.querySelector('#df-d2636dcc-76d7-415c-97dd-65e8ce487289 button.colab-df-convert');\n",
       "        buttonEl.style.display =\n",
       "          google.colab.kernel.accessAllowed ? 'block' : 'none';\n",
       "\n",
       "        async function convertToInteractive(key) {\n",
       "          const element = document.querySelector('#df-d2636dcc-76d7-415c-97dd-65e8ce487289');\n",
       "          const dataTable =\n",
       "            await google.colab.kernel.invokeFunction('convertToInteractive',\n",
       "                                                     [key], {});\n",
       "          if (!dataTable) return;\n",
       "\n",
       "          const docLinkHtml = 'Like what you see? Visit the ' +\n",
       "            '<a target=\"_blank\" href=https://colab.research.google.com/notebooks/data_table.ipynb>data table notebook</a>'\n",
       "            + ' to learn more about interactive tables.';\n",
       "          element.innerHTML = '';\n",
       "          dataTable['output_type'] = 'display_data';\n",
       "          await google.colab.output.renderOutput(dataTable, element);\n",
       "          const docLink = document.createElement('div');\n",
       "          docLink.innerHTML = docLinkHtml;\n",
       "          element.appendChild(docLink);\n",
       "        }\n",
       "      </script>\n",
       "    </div>\n",
       "  </div>\n",
       "  "
      ],
      "text/plain": [
       "    mpg  cylinders  displacement  horsepower  weight  acceleration  \\\n",
       "0  18.0        8.0         307.0       130.0  3504.0          12.0   \n",
       "1  15.0        8.0         350.0       165.0  3693.0          11.5   \n",
       "2  18.0        8.0         318.0       150.0  3436.0          11.0   \n",
       "3  16.0        8.0         304.0       150.0  3433.0          12.0   \n",
       "4  17.0        8.0         302.0       140.0  3449.0          10.5   \n",
       "\n",
       "   model_year origin                   car_name  \n",
       "0        70.0     1.  chevrolet chevelle malibu  \n",
       "1        70.0     1.          buick skylark 320  \n",
       "2        70.0     1.         plymouth satellite  \n",
       "3        70.0     1.              amc rebel sst  \n",
       "4        70.0     1.                ford torino  "
      ]
     },
     "execution_count": 7,
     "metadata": {},
     "output_type": "execute_result"
    }
   ],
   "source": [
    "# 2.4.2 Examining labels, values, distributions\n",
    "\n",
    "numeric_feats = [\"mpg\", \"displacement\", \"horsepower\", \"weight\", \"acceleration\"]\n",
    "ordinal_feats = [\"cylinders\", \"model_year\"]\n",
    "categorical_feats = [\"origin\", \"car_name\"]\n",
    "\n",
    "data.head(5)"
   ]
  },
  {
   "cell_type": "code",
   "execution_count": null,
   "metadata": {
    "colab": {
     "base_uri": "https://localhost:8080/"
    },
    "id": "sbJDZhwQCHsb",
    "outputId": "b70f608e-efe4-42eb-9f89-f4febdc83af5"
   },
   "outputs": [
    {
     "data": {
      "text/plain": [
       "mpg             129\n",
       "cylinders         5\n",
       "displacement     84\n",
       "horsepower       92\n",
       "weight          356\n",
       "acceleration     96\n",
       "model_year       14\n",
       "origin            4\n",
       "car_name        312\n",
       "dtype: int64"
      ]
     },
     "execution_count": 8,
     "metadata": {},
     "output_type": "execute_result"
    }
   ],
   "source": [
    "data.nunique()"
   ]
  },
  {
   "cell_type": "code",
   "execution_count": null,
   "metadata": {
    "colab": {
     "base_uri": "https://localhost:8080/"
    },
    "id": "mDeP6bpzEQMx",
    "outputId": "64197ca0-534d-4876-8ecf-d4a2d18ed2ab"
   },
   "outputs": [
    {
     "data": {
      "text/plain": [
       "mpg               7.815984\n",
       "displacement    105.207362\n",
       "horsepower       38.522063\n",
       "weight          849.827166\n",
       "acceleration      2.820984\n",
       "dtype: float64"
      ]
     },
     "execution_count": 9,
     "metadata": {},
     "output_type": "execute_result"
    }
   ],
   "source": [
    "data[numeric_feats].std()"
   ]
  },
  {
   "cell_type": "code",
   "execution_count": null,
   "metadata": {
    "colab": {
     "base_uri": "https://localhost:8080/"
    },
    "id": "Sf7xfskcEUI6",
    "outputId": "48e8b0fb-6c15-468e-afe7-2579af8e6dac"
   },
   "outputs": [
    {
     "data": {
      "text/plain": [
       "mpg             8\n",
       "cylinders       0\n",
       "displacement    0\n",
       "horsepower      6\n",
       "weight          0\n",
       "acceleration    0\n",
       "model_year      0\n",
       "origin          0\n",
       "car_name        0\n",
       "dtype: int64"
      ]
     },
     "execution_count": 10,
     "metadata": {},
     "output_type": "execute_result"
    }
   ],
   "source": [
    "(data.isna()\n",
    "     .sum(axis=0)\n",
    ")"
   ]
  },
  {
   "cell_type": "code",
   "execution_count": null,
   "metadata": {
    "colab": {
     "base_uri": "https://localhost:8080/"
    },
    "id": "5YYHY6cJEYT4",
    "outputId": "72681370-1500-4083-b4cb-001fb63f276a"
   },
   "outputs": [
    {
     "data": {
      "text/plain": [
       "mpg             0\n",
       "displacement    0\n",
       "horsepower      0\n",
       "weight          0\n",
       "acceleration    0\n",
       "dtype: int64"
      ]
     },
     "execution_count": 11,
     "metadata": {},
     "output_type": "execute_result"
    }
   ],
   "source": [
    "(data[numeric_feats]==-999).sum(axis=0)"
   ]
  },
  {
   "cell_type": "code",
   "execution_count": null,
   "metadata": {
    "colab": {
     "base_uri": "https://localhost:8080/",
     "height": 300
    },
    "id": "zfLrZcquEa6n",
    "outputId": "dfd675ce-ee36-4d46-8505-c527fd8cb064"
   },
   "outputs": [
    {
     "data": {
      "text/html": [
       "\n",
       "  <div id=\"df-e7778cca-556a-4610-b593-0e624670168a\">\n",
       "    <div class=\"colab-df-container\">\n",
       "      <div>\n",
       "<style scoped>\n",
       "    .dataframe tbody tr th:only-of-type {\n",
       "        vertical-align: middle;\n",
       "    }\n",
       "\n",
       "    .dataframe tbody tr th {\n",
       "        vertical-align: top;\n",
       "    }\n",
       "\n",
       "    .dataframe thead th {\n",
       "        text-align: right;\n",
       "    }\n",
       "</style>\n",
       "<table border=\"1\" class=\"dataframe\">\n",
       "  <thead>\n",
       "    <tr style=\"text-align: right;\">\n",
       "      <th></th>\n",
       "      <th>mpg</th>\n",
       "      <th>cylinders</th>\n",
       "      <th>displacement</th>\n",
       "      <th>horsepower</th>\n",
       "      <th>weight</th>\n",
       "      <th>acceleration</th>\n",
       "      <th>model_year</th>\n",
       "    </tr>\n",
       "  </thead>\n",
       "  <tbody>\n",
       "    <tr>\n",
       "      <th>count</th>\n",
       "      <td>398.000000</td>\n",
       "      <td>406.000000</td>\n",
       "      <td>406.000000</td>\n",
       "      <td>400.000000</td>\n",
       "      <td>406.000000</td>\n",
       "      <td>406.000000</td>\n",
       "      <td>406.000000</td>\n",
       "    </tr>\n",
       "    <tr>\n",
       "      <th>mean</th>\n",
       "      <td>23.514573</td>\n",
       "      <td>5.475369</td>\n",
       "      <td>194.040640</td>\n",
       "      <td>104.832500</td>\n",
       "      <td>2969.561576</td>\n",
       "      <td>15.495074</td>\n",
       "      <td>75.748768</td>\n",
       "    </tr>\n",
       "    <tr>\n",
       "      <th>std</th>\n",
       "      <td>7.815984</td>\n",
       "      <td>1.712160</td>\n",
       "      <td>105.207362</td>\n",
       "      <td>38.522063</td>\n",
       "      <td>849.827166</td>\n",
       "      <td>2.820984</td>\n",
       "      <td>5.307431</td>\n",
       "    </tr>\n",
       "    <tr>\n",
       "      <th>min</th>\n",
       "      <td>9.000000</td>\n",
       "      <td>3.000000</td>\n",
       "      <td>4.000000</td>\n",
       "      <td>46.000000</td>\n",
       "      <td>732.000000</td>\n",
       "      <td>8.000000</td>\n",
       "      <td>0.000000</td>\n",
       "    </tr>\n",
       "    <tr>\n",
       "      <th>25%</th>\n",
       "      <td>17.500000</td>\n",
       "      <td>4.000000</td>\n",
       "      <td>104.250000</td>\n",
       "      <td>75.750000</td>\n",
       "      <td>2223.750000</td>\n",
       "      <td>13.625000</td>\n",
       "      <td>73.000000</td>\n",
       "    </tr>\n",
       "    <tr>\n",
       "      <th>50%</th>\n",
       "      <td>23.000000</td>\n",
       "      <td>4.000000</td>\n",
       "      <td>148.500000</td>\n",
       "      <td>95.000000</td>\n",
       "      <td>2811.000000</td>\n",
       "      <td>15.500000</td>\n",
       "      <td>76.000000</td>\n",
       "    </tr>\n",
       "    <tr>\n",
       "      <th>75%</th>\n",
       "      <td>29.000000</td>\n",
       "      <td>8.000000</td>\n",
       "      <td>293.250000</td>\n",
       "      <td>129.250000</td>\n",
       "      <td>3612.000000</td>\n",
       "      <td>17.075000</td>\n",
       "      <td>79.000000</td>\n",
       "    </tr>\n",
       "    <tr>\n",
       "      <th>max</th>\n",
       "      <td>46.600000</td>\n",
       "      <td>8.000000</td>\n",
       "      <td>455.000000</td>\n",
       "      <td>230.000000</td>\n",
       "      <td>5140.000000</td>\n",
       "      <td>24.800000</td>\n",
       "      <td>82.000000</td>\n",
       "    </tr>\n",
       "  </tbody>\n",
       "</table>\n",
       "</div>\n",
       "      <button class=\"colab-df-convert\" onclick=\"convertToInteractive('df-e7778cca-556a-4610-b593-0e624670168a')\"\n",
       "              title=\"Convert this dataframe to an interactive table.\"\n",
       "              style=\"display:none;\">\n",
       "        \n",
       "  <svg xmlns=\"http://www.w3.org/2000/svg\" height=\"24px\"viewBox=\"0 0 24 24\"\n",
       "       width=\"24px\">\n",
       "    <path d=\"M0 0h24v24H0V0z\" fill=\"none\"/>\n",
       "    <path d=\"M18.56 5.44l.94 2.06.94-2.06 2.06-.94-2.06-.94-.94-2.06-.94 2.06-2.06.94zm-11 1L8.5 8.5l.94-2.06 2.06-.94-2.06-.94L8.5 2.5l-.94 2.06-2.06.94zm10 10l.94 2.06.94-2.06 2.06-.94-2.06-.94-.94-2.06-.94 2.06-2.06.94z\"/><path d=\"M17.41 7.96l-1.37-1.37c-.4-.4-.92-.59-1.43-.59-.52 0-1.04.2-1.43.59L10.3 9.45l-7.72 7.72c-.78.78-.78 2.05 0 2.83L4 21.41c.39.39.9.59 1.41.59.51 0 1.02-.2 1.41-.59l7.78-7.78 2.81-2.81c.8-.78.8-2.07 0-2.86zM5.41 20L4 18.59l7.72-7.72 1.47 1.35L5.41 20z\"/>\n",
       "  </svg>\n",
       "      </button>\n",
       "      \n",
       "  <style>\n",
       "    .colab-df-container {\n",
       "      display:flex;\n",
       "      flex-wrap:wrap;\n",
       "      gap: 12px;\n",
       "    }\n",
       "\n",
       "    .colab-df-convert {\n",
       "      background-color: #E8F0FE;\n",
       "      border: none;\n",
       "      border-radius: 50%;\n",
       "      cursor: pointer;\n",
       "      display: none;\n",
       "      fill: #1967D2;\n",
       "      height: 32px;\n",
       "      padding: 0 0 0 0;\n",
       "      width: 32px;\n",
       "    }\n",
       "\n",
       "    .colab-df-convert:hover {\n",
       "      background-color: #E2EBFA;\n",
       "      box-shadow: 0px 1px 2px rgba(60, 64, 67, 0.3), 0px 1px 3px 1px rgba(60, 64, 67, 0.15);\n",
       "      fill: #174EA6;\n",
       "    }\n",
       "\n",
       "    [theme=dark] .colab-df-convert {\n",
       "      background-color: #3B4455;\n",
       "      fill: #D2E3FC;\n",
       "    }\n",
       "\n",
       "    [theme=dark] .colab-df-convert:hover {\n",
       "      background-color: #434B5C;\n",
       "      box-shadow: 0px 1px 3px 1px rgba(0, 0, 0, 0.15);\n",
       "      filter: drop-shadow(0px 1px 2px rgba(0, 0, 0, 0.3));\n",
       "      fill: #FFFFFF;\n",
       "    }\n",
       "  </style>\n",
       "\n",
       "      <script>\n",
       "        const buttonEl =\n",
       "          document.querySelector('#df-e7778cca-556a-4610-b593-0e624670168a button.colab-df-convert');\n",
       "        buttonEl.style.display =\n",
       "          google.colab.kernel.accessAllowed ? 'block' : 'none';\n",
       "\n",
       "        async function convertToInteractive(key) {\n",
       "          const element = document.querySelector('#df-e7778cca-556a-4610-b593-0e624670168a');\n",
       "          const dataTable =\n",
       "            await google.colab.kernel.invokeFunction('convertToInteractive',\n",
       "                                                     [key], {});\n",
       "          if (!dataTable) return;\n",
       "\n",
       "          const docLinkHtml = 'Like what you see? Visit the ' +\n",
       "            '<a target=\"_blank\" href=https://colab.research.google.com/notebooks/data_table.ipynb>data table notebook</a>'\n",
       "            + ' to learn more about interactive tables.';\n",
       "          element.innerHTML = '';\n",
       "          dataTable['output_type'] = 'display_data';\n",
       "          await google.colab.output.renderOutput(dataTable, element);\n",
       "          const docLink = document.createElement('div');\n",
       "          docLink.innerHTML = docLinkHtml;\n",
       "          element.appendChild(docLink);\n",
       "        }\n",
       "      </script>\n",
       "    </div>\n",
       "  </div>\n",
       "  "
      ],
      "text/plain": [
       "              mpg   cylinders  displacement  horsepower       weight  \\\n",
       "count  398.000000  406.000000    406.000000  400.000000   406.000000   \n",
       "mean    23.514573    5.475369    194.040640  104.832500  2969.561576   \n",
       "std      7.815984    1.712160    105.207362   38.522063   849.827166   \n",
       "min      9.000000    3.000000      4.000000   46.000000   732.000000   \n",
       "25%     17.500000    4.000000    104.250000   75.750000  2223.750000   \n",
       "50%     23.000000    4.000000    148.500000   95.000000  2811.000000   \n",
       "75%     29.000000    8.000000    293.250000  129.250000  3612.000000   \n",
       "max     46.600000    8.000000    455.000000  230.000000  5140.000000   \n",
       "\n",
       "       acceleration  model_year  \n",
       "count    406.000000  406.000000  \n",
       "mean      15.495074   75.748768  \n",
       "std        2.820984    5.307431  \n",
       "min        8.000000    0.000000  \n",
       "25%       13.625000   73.000000  \n",
       "50%       15.500000   76.000000  \n",
       "75%       17.075000   79.000000  \n",
       "max       24.800000   82.000000  "
      ]
     },
     "execution_count": 12,
     "metadata": {},
     "output_type": "execute_result"
    }
   ],
   "source": [
    "data.describe()"
   ]
  },
  {
   "cell_type": "code",
   "execution_count": null,
   "metadata": {
    "colab": {
     "base_uri": "https://localhost:8080/"
    },
    "id": "0MFdsllfEdHE",
    "outputId": "0a11ff49-ef43-4b2e-9055-33f17f3ced34"
   },
   "outputs": [
    {
     "data": {
      "text/plain": [
       "ford          53\n",
       "chevrolet     44\n",
       "plymouth      32\n",
       "(sw)          32\n",
       "amc           29\n",
       "dodge         28\n",
       "toyota        25\n",
       "datsun        23\n",
       "custom        18\n",
       "buick         17\n",
       "pontiac       16\n",
       "volkswagen    16\n",
       "honda         13\n",
       "mercury       11\n",
       "brougham      10\n",
       "Name: car_name, dtype: int64"
      ]
     },
     "execution_count": 13,
     "metadata": {},
     "output_type": "execute_result"
    }
   ],
   "source": [
    "words = (data.car_name\n",
    "             .apply(lambda x: x.split()) \n",
    "             .explode()\n",
    "             .value_counts()  \n",
    "        )\n",
    "\n",
    "words.head(15)"
   ]
  },
  {
   "cell_type": "code",
   "execution_count": null,
   "metadata": {
    "colab": {
     "base_uri": "https://localhost:8080/"
    },
    "id": "G27XyKKCEicT",
    "outputId": "711c454b-ce73-4035-983a-3be82b997338"
   },
   "outputs": [
    {
     "data": {
      "text/plain": [
       "Index(['seville', 'sj', 'skyhawk', 'skylark', 'special', 'spirit', 'sport',\n",
       "       'sportabout', 'squire', 'sst', 'st.', 'stanza', 'starfire', 'starlet',\n",
       "       'strada', 'subaru', 'suburb', 'sunbird', 'super', 'supreme', 'sx', 'tc',\n",
       "       'tc3', 'tercel', 'thunderbird', 'torino', 'town', 'toyota', 'toyouta',\n",
       "       'tr7', 'triumph', 'turbo', 'type', 'v6', 'v8', 'valiant', 'vega',\n",
       "       'ventura', 'vista', 'vokswagen', 'volare', 'volkswagen', 'volvo', 'vw',\n",
       "       'wagon', 'woody', 'x1.9', 'xe', 'yorker', 'zephyr'],\n",
       "      dtype='object')"
      ]
     },
     "execution_count": 14,
     "metadata": {},
     "output_type": "execute_result"
    }
   ],
   "source": [
    "(words.index\n",
    "      .sort_values()\n",
    ")[-50:]"
   ]
  },
  {
   "cell_type": "code",
   "execution_count": null,
   "metadata": {
    "colab": {
     "base_uri": "https://localhost:8080/"
    },
    "id": "JwqUJ0EsElhb",
    "outputId": "a70351e7-4fc3-44da-8a4d-45bbfc2666df"
   },
   "outputs": [
    {
     "data": {
      "text/plain": [
       "1.    253\n",
       "3.     79\n",
       "2.     73\n",
       ".       1\n",
       "Name: origin, dtype: int64"
      ]
     },
     "execution_count": 15,
     "metadata": {},
     "output_type": "execute_result"
    }
   ],
   "source": [
    "(data.origin\n",
    "     .value_counts()\n",
    ")"
   ]
  },
  {
   "cell_type": "code",
   "execution_count": null,
   "metadata": {
    "colab": {
     "base_uri": "https://localhost:8080/",
     "height": 489
    },
    "id": "dgrg5oflEoOQ",
    "outputId": "3ec5332e-51b0-427e-8d5d-b9254c85bc0d"
   },
   "outputs": [
    {
     "data": {
      "text/html": [
       "\n",
       "  <div id=\"df-f560e84f-2e21-4694-bd72-5374ec474fe0\">\n",
       "    <div class=\"colab-df-container\">\n",
       "      <div>\n",
       "<style scoped>\n",
       "    .dataframe tbody tr th:only-of-type {\n",
       "        vertical-align: middle;\n",
       "    }\n",
       "\n",
       "    .dataframe tbody tr th {\n",
       "        vertical-align: top;\n",
       "    }\n",
       "\n",
       "    .dataframe thead th {\n",
       "        text-align: right;\n",
       "    }\n",
       "</style>\n",
       "<table border=\"1\" class=\"dataframe\">\n",
       "  <thead>\n",
       "    <tr style=\"text-align: right;\">\n",
       "      <th></th>\n",
       "      <th>model_year</th>\n",
       "      <th>counts</th>\n",
       "    </tr>\n",
       "  </thead>\n",
       "  <tbody>\n",
       "    <tr>\n",
       "      <th>13</th>\n",
       "      <td>0.0</td>\n",
       "      <td>1</td>\n",
       "    </tr>\n",
       "    <tr>\n",
       "      <th>2</th>\n",
       "      <td>70.0</td>\n",
       "      <td>34</td>\n",
       "    </tr>\n",
       "    <tr>\n",
       "      <th>7</th>\n",
       "      <td>71.0</td>\n",
       "      <td>29</td>\n",
       "    </tr>\n",
       "    <tr>\n",
       "      <th>10</th>\n",
       "      <td>72.0</td>\n",
       "      <td>28</td>\n",
       "    </tr>\n",
       "    <tr>\n",
       "      <th>0</th>\n",
       "      <td>73.0</td>\n",
       "      <td>40</td>\n",
       "    </tr>\n",
       "    <tr>\n",
       "      <th>12</th>\n",
       "      <td>74.0</td>\n",
       "      <td>27</td>\n",
       "    </tr>\n",
       "    <tr>\n",
       "      <th>5</th>\n",
       "      <td>75.0</td>\n",
       "      <td>30</td>\n",
       "    </tr>\n",
       "    <tr>\n",
       "      <th>3</th>\n",
       "      <td>76.0</td>\n",
       "      <td>34</td>\n",
       "    </tr>\n",
       "    <tr>\n",
       "      <th>11</th>\n",
       "      <td>77.0</td>\n",
       "      <td>28</td>\n",
       "    </tr>\n",
       "    <tr>\n",
       "      <th>1</th>\n",
       "      <td>78.0</td>\n",
       "      <td>36</td>\n",
       "    </tr>\n",
       "    <tr>\n",
       "      <th>8</th>\n",
       "      <td>79.0</td>\n",
       "      <td>29</td>\n",
       "    </tr>\n",
       "    <tr>\n",
       "      <th>9</th>\n",
       "      <td>80.0</td>\n",
       "      <td>29</td>\n",
       "    </tr>\n",
       "    <tr>\n",
       "      <th>6</th>\n",
       "      <td>81.0</td>\n",
       "      <td>30</td>\n",
       "    </tr>\n",
       "    <tr>\n",
       "      <th>4</th>\n",
       "      <td>82.0</td>\n",
       "      <td>31</td>\n",
       "    </tr>\n",
       "  </tbody>\n",
       "</table>\n",
       "</div>\n",
       "      <button class=\"colab-df-convert\" onclick=\"convertToInteractive('df-f560e84f-2e21-4694-bd72-5374ec474fe0')\"\n",
       "              title=\"Convert this dataframe to an interactive table.\"\n",
       "              style=\"display:none;\">\n",
       "        \n",
       "  <svg xmlns=\"http://www.w3.org/2000/svg\" height=\"24px\"viewBox=\"0 0 24 24\"\n",
       "       width=\"24px\">\n",
       "    <path d=\"M0 0h24v24H0V0z\" fill=\"none\"/>\n",
       "    <path d=\"M18.56 5.44l.94 2.06.94-2.06 2.06-.94-2.06-.94-.94-2.06-.94 2.06-2.06.94zm-11 1L8.5 8.5l.94-2.06 2.06-.94-2.06-.94L8.5 2.5l-.94 2.06-2.06.94zm10 10l.94 2.06.94-2.06 2.06-.94-2.06-.94-.94-2.06-.94 2.06-2.06.94z\"/><path d=\"M17.41 7.96l-1.37-1.37c-.4-.4-.92-.59-1.43-.59-.52 0-1.04.2-1.43.59L10.3 9.45l-7.72 7.72c-.78.78-.78 2.05 0 2.83L4 21.41c.39.39.9.59 1.41.59.51 0 1.02-.2 1.41-.59l7.78-7.78 2.81-2.81c.8-.78.8-2.07 0-2.86zM5.41 20L4 18.59l7.72-7.72 1.47 1.35L5.41 20z\"/>\n",
       "  </svg>\n",
       "      </button>\n",
       "      \n",
       "  <style>\n",
       "    .colab-df-container {\n",
       "      display:flex;\n",
       "      flex-wrap:wrap;\n",
       "      gap: 12px;\n",
       "    }\n",
       "\n",
       "    .colab-df-convert {\n",
       "      background-color: #E8F0FE;\n",
       "      border: none;\n",
       "      border-radius: 50%;\n",
       "      cursor: pointer;\n",
       "      display: none;\n",
       "      fill: #1967D2;\n",
       "      height: 32px;\n",
       "      padding: 0 0 0 0;\n",
       "      width: 32px;\n",
       "    }\n",
       "\n",
       "    .colab-df-convert:hover {\n",
       "      background-color: #E2EBFA;\n",
       "      box-shadow: 0px 1px 2px rgba(60, 64, 67, 0.3), 0px 1px 3px 1px rgba(60, 64, 67, 0.15);\n",
       "      fill: #174EA6;\n",
       "    }\n",
       "\n",
       "    [theme=dark] .colab-df-convert {\n",
       "      background-color: #3B4455;\n",
       "      fill: #D2E3FC;\n",
       "    }\n",
       "\n",
       "    [theme=dark] .colab-df-convert:hover {\n",
       "      background-color: #434B5C;\n",
       "      box-shadow: 0px 1px 3px 1px rgba(0, 0, 0, 0.15);\n",
       "      filter: drop-shadow(0px 1px 2px rgba(0, 0, 0, 0.3));\n",
       "      fill: #FFFFFF;\n",
       "    }\n",
       "  </style>\n",
       "\n",
       "      <script>\n",
       "        const buttonEl =\n",
       "          document.querySelector('#df-f560e84f-2e21-4694-bd72-5374ec474fe0 button.colab-df-convert');\n",
       "        buttonEl.style.display =\n",
       "          google.colab.kernel.accessAllowed ? 'block' : 'none';\n",
       "\n",
       "        async function convertToInteractive(key) {\n",
       "          const element = document.querySelector('#df-f560e84f-2e21-4694-bd72-5374ec474fe0');\n",
       "          const dataTable =\n",
       "            await google.colab.kernel.invokeFunction('convertToInteractive',\n",
       "                                                     [key], {});\n",
       "          if (!dataTable) return;\n",
       "\n",
       "          const docLinkHtml = 'Like what you see? Visit the ' +\n",
       "            '<a target=\"_blank\" href=https://colab.research.google.com/notebooks/data_table.ipynb>data table notebook</a>'\n",
       "            + ' to learn more about interactive tables.';\n",
       "          element.innerHTML = '';\n",
       "          dataTable['output_type'] = 'display_data';\n",
       "          await google.colab.output.renderOutput(dataTable, element);\n",
       "          const docLink = document.createElement('div');\n",
       "          docLink.innerHTML = docLinkHtml;\n",
       "          element.appendChild(docLink);\n",
       "        }\n",
       "      </script>\n",
       "    </div>\n",
       "  </div>\n",
       "  "
      ],
      "text/plain": [
       "    model_year  counts\n",
       "13         0.0       1\n",
       "2         70.0      34\n",
       "7         71.0      29\n",
       "10        72.0      28\n",
       "0         73.0      40\n",
       "12        74.0      27\n",
       "5         75.0      30\n",
       "3         76.0      34\n",
       "11        77.0      28\n",
       "1         78.0      36\n",
       "8         79.0      29\n",
       "9         80.0      29\n",
       "6         81.0      30\n",
       "4         82.0      31"
      ]
     },
     "execution_count": 16,
     "metadata": {},
     "output_type": "execute_result"
    }
   ],
   "source": [
    "(data.model_year\n",
    "     .value_counts()\n",
    "     .reset_index()\n",
    "     .rename(columns={'index':'model_year', \n",
    "                      'model_year':'counts'})\n",
    "     .sort_values(by=\"model_year\")\n",
    ")"
   ]
  },
  {
   "cell_type": "code",
   "execution_count": null,
   "metadata": {
    "colab": {
     "base_uri": "https://localhost:8080/",
     "height": 386
    },
    "id": "jbvJckvxEqwb",
    "outputId": "c40b63bd-7a54-4c5b-df93-3eb29e45ab42"
   },
   "outputs": [
    {
     "data": {
      "text/plain": [
       "<Axes: >"
      ]
     },
     "execution_count": 17,
     "metadata": {},
     "output_type": "execute_result"
    },
    {
     "data": {
      "image/png": "[encoded data removed]",
      "text/plain": [
       "<Figure size 1200x400 with 1 Axes>"
      ]
     },
     "metadata": {},
     "output_type": "display_data"
    }
   ],
   "source": [
    "standardized = ((data[numeric_feats] - data[numeric_feats].mean()) \n",
    "                / data[numeric_feats].std())\n",
    "standardized.boxplot(column=numeric_feats, figsize= (12, 4))"
   ]
  },
  {
   "cell_type": "code",
   "execution_count": null,
   "metadata": {
    "colab": {
     "base_uri": "https://localhost:8080/",
     "height": 448
    },
    "id": "8hUrYHAcEvSb",
    "outputId": "d86ed78b-3bba-4229-fc9a-e0332c4f3006"
   },
   "outputs": [
    {
     "data": {
      "text/plain": [
       "<Axes: >"
      ]
     },
     "execution_count": 18,
     "metadata": {},
     "output_type": "execute_result"
    },
    {
     "data": {
      "image/png": "[encoded data removed]",
      "text/plain": [
       "<Figure size 640x480 with 1 Axes>"
      ]
     },
     "metadata": {},
     "output_type": "display_data"
    }
   ],
   "source": [
    "data.horsepower.round().hist(bins=64)"
   ]
  },
  {
   "cell_type": "code",
   "execution_count": null,
   "metadata": {
    "colab": {
     "base_uri": "https://localhost:8080/",
     "height": 448
    },
    "id": "hK4Z74O1FHfK",
    "outputId": "86eb8fd1-e4b1-4f90-bd4c-a54a38734912"
   },
   "outputs": [
    {
     "data": {
      "text/plain": [
       "<Axes: >"
      ]
     },
     "execution_count": 19,
     "metadata": {},
     "output_type": "execute_result"
    },
    {
     "data": {
      "image/png": "[encoded data removed]",
      "text/plain": [
       "<Figure size 640x480 with 1 Axes>"
      ]
     },
     "metadata": {},
     "output_type": "display_data"
    }
   ],
   "source": [
    "data.acceleration.hist(bins=24)"
   ]
  },
  {
   "cell_type": "code",
   "execution_count": null,
   "metadata": {
    "colab": {
     "base_uri": "https://localhost:8080/",
     "height": 475
    },
    "id": "0rysf9IAFKmu",
    "outputId": "8acea621-ca37-4343-aa4f-91c9a3d32162"
   },
   "outputs": [
    {
     "data": {
      "text/plain": [
       "<Axes: xlabel='counts'>"
      ]
     },
     "execution_count": 20,
     "metadata": {},
     "output_type": "execute_result"
    },
    {
     "data": {
      "image/png": "[encoded data removed]",
      "text/plain": [
       "<Figure size 640x480 with 1 Axes>"
      ]
     },
     "metadata": {},
     "output_type": "display_data"
    }
   ],
   "source": [
    "(data.cylinders\n",
    "     .value_counts()\n",
    "     .reset_index()\n",
    "     .rename(columns={'index':'counts'})\n",
    "     .sort_values(by=\"counts\")\n",
    "     .plot.bar(x=\"counts\")\n",
    ")"
   ]
  },
  {
   "cell_type": "code",
   "execution_count": null,
   "metadata": {
    "colab": {
     "base_uri": "https://localhost:8080/",
     "height": 533
    },
    "id": "SRTf-B2BFOJ1",
    "outputId": "eec38ce7-3944-4235-99d2-7accc456025c"
   },
   "outputs": [
    {
     "data": {
      "text/plain": [
       "<Axes: >"
      ]
     },
     "execution_count": 21,
     "metadata": {},
     "output_type": "execute_result"
    },
    {
     "data": {
      "image/png": "[encoded data removed]",
      "text/plain": [
       "<Figure size 640x480 with 2 Axes>"
      ]
     },
     "metadata": {},
     "output_type": "display_data"
    }
   ],
   "source": [
    "import seaborn as sns\n",
    "\n",
    "corr = data[numeric_feats].corr()\n",
    "sns.heatmap(corr, cmap=\"Blues\",annot=True)"
   ]
  },
  {
   "cell_type": "code",
   "execution_count": null,
   "metadata": {
    "colab": {
     "base_uri": "https://localhost:8080/"
    },
    "id": "Pu8KJ0pyFS9Y",
    "outputId": "cee2c4e1-6517-4600-da7d-8dc67d3ba4a7"
   },
   "outputs": [
    {
     "name": "stdout",
     "output_type": "stream",
     "text": [
      "0.28759294860603984\n"
     ]
    }
   ],
   "source": [
    "# Listing 2.6 Using Cramer's V to detect association\n",
    "\n",
    "from scipy.stats import chi2_contingency #A\n",
    "\n",
    "def cramerV(chi2, table): #B\n",
    "    n = table.values.sum() #C\n",
    "    minimum_dimension = min(table.shape)-1 #D\n",
    "    result = ((chi2 / n) / minimum_dimension)**0.5 #E\n",
    "    return result\n",
    "\n",
    "deciles = pd.qcut(data.mpg, q=10, labels=False) #F\n",
    "table = pd.crosstab(data.model_year, deciles) #G\n",
    "chi2, p, dof, expected = chi2_contingency(observed=table) #H\n",
    "print(cramerV(chi2, table)) #I\n",
    "\n",
    "#A importing from Scipy the function for computing the chi-square test of independence\n",
    "#B preparing a function for calculating Cramer's V having as input the score chi-square test of independence and the table it has been derived from\n",
    "#C counting all the elements in the table\n",
    "#D figuring out the minimum dimension of the table\n",
    "#E result is the root of the chi-square score divided by the number of elements in the table and its minimum dimension\n",
    "#F transforming the numeric feature mpg into deciles so they can fit into a table\n",
    "#G creating the table between the model_year and mpg deciles to estimate their association\n",
    "#H  returning the score, the p-value, the degrees of freedom, and the expected table based on marginal probabilities\n",
    "#I print the resulting Cramer’s V"
   ]
  },
  {
   "cell_type": "code",
   "execution_count": null,
   "metadata": {
    "colab": {
     "base_uri": "https://localhost:8080/",
     "height": 1000
    },
    "id": "5XQxEZWuFZEV",
    "outputId": "c4731fe3-0559-4fe4-b211-225ba8d9b49c"
   },
   "outputs": [
    {
     "data": {
      "image/png": "[encoded data removed]",
      "text/plain": [
       "<Figure size 1500x1500 with 1 Axes>"
      ]
     },
     "metadata": {},
     "output_type": "display_data"
    }
   ],
   "source": [
    "# Listing 2.7 Plotting a t-SNE low dimensional projection of a dataset\n",
    "\n",
    "from sklearn.manifold import TSNE #A\n",
    "import matplotlib.pyplot as plt #B\n",
    "\n",
    "tsne = TSNE(n_components=2, perplexity=30., init=\"random\", learning_rate=\"auto\",\n",
    "random_state=42) #C\n",
    "X = data[numeric_feats + ordinal_feats].fillna(data[numeric_feats + ordinal_feats].mean()) #D\n",
    "projection_2D = tsne.fit_transform(X) #E\n",
    "\n",
    "plt.figure(figsize=(15, 15))\n",
    "plt.scatter(projection_2D[:, 0], projection_2D[:, 1],\n",
    "            edgecolor='none', \n",
    "            alpha=0.80, \n",
    "            s=10) \n",
    "plt.show() #F\n",
    "\n",
    "#A importing the t-SNE class available in Scikit-learn\n",
    "#B importing pyplot from matplotlib for chart plotting\n",
    "#C t-SNE is set to project results in 2 dimensions, the other parameters are kept at their default settings\n",
    "#D Only numeric and ordinal features are used, missing values are replaced with the mean because the t-SNE class requires a complete input data matrix\n",
    "#E By fit_transform, the projection is created based on the provided data and applied to the data itself\n",
    "#F The t-SNE transformed data is plotted as a bi-dimensional scatterplot"
   ]
  }
 ],
 "metadata": {
  "colab": {
   "provenance": []
  },
  "kernelspec": {
   "display_name": "Python 3 (ipykernel)",
   "language": "python",
   "name": "python3"
  },
  "language_info": {
   "codemirror_mode": {
    "name": "ipython",
    "version": 3
   },
   "file_extension": ".py",
   "mimetype": "text/x-python",
   "name": "python",
   "nbconvert_exporter": "python",
   "pygments_lexer": "ipython3",
   "version": "3.8.9"
  }
 },
 "nbformat": 4,
 "nbformat_minor": 1
}
